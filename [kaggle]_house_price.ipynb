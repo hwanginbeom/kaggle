{
  "nbformat": 4,
  "nbformat_minor": 0,
  "metadata": {
    "colab": {
      "name": "[kaggle] house_price.ipynb",
      "provenance": [],
      "private_outputs": true,
      "collapsed_sections": [],
      "toc_visible": true
    },
    "kernelspec": {
      "name": "python3",
      "display_name": "Python 3"
    }
  },
  "cells": [
    {
      "cell_type": "code",
      "metadata": {
        "id": "aFepV_CmitMR"
      },
      "source": [
        "pip install impyute"
      ],
      "execution_count": null,
      "outputs": []
    },
    {
      "cell_type": "code",
      "metadata": {
        "id": "efET0ZZKixNq"
      },
      "source": [
        "pip install sklearn"
      ],
      "execution_count": null,
      "outputs": []
    },
    {
      "cell_type": "code",
      "metadata": {
        "id": "B9lkWLeYP6dv"
      },
      "source": [
        "import pandas as pd\n",
        "import numpy as np\n",
        "from sklearn.experimental import enable_iterative_imputer\n",
        "from sklearn.impute import IterativeImputer\n",
        "from sklearn.linear_model import LinearRegression\n",
        "from impyute.imputation.cs import mice\n",
        "from sklearn.model_selection import train_test_split"
      ],
      "execution_count": null,
      "outputs": []
    },
    {
      "cell_type": "code",
      "metadata": {
        "id": "9YgtfES8SQ3W"
      },
      "source": [
        "pd.set_option('display.max_colwidth',-1)\n",
        "pd.set_option('display.max_columns', 500)\n",
        "pd.set_option('display.max_rows', 500)\n",
        "pd.set_option('display.width', 1000)"
      ],
      "execution_count": null,
      "outputs": []
    },
    {
      "cell_type": "code",
      "metadata": {
        "id": "C91d5aT9JBAD"
      },
      "source": [
        "test = pd.read_csv('/content/drive/My Drive/data/kaggle/house-prices/test.csv', encoding = 'cp949')\n",
        "train = pd.read_csv('/content/drive/My Drive/data/kaggle/house-prices/train.csv', encoding = 'cp949')\n"
      ],
      "execution_count": null,
      "outputs": []
    },
    {
      "cell_type": "markdown",
      "metadata": {
        "id": "qAWasIZhTBaO"
      },
      "source": [
        "#데이터 타입 확인"
      ]
    },
    {
      "cell_type": "markdown",
      "metadata": {
        "id": "LUvszw6NTBXS"
      },
      "source": [
        ""
      ]
    },
    {
      "cell_type": "code",
      "metadata": {
        "id": "AZmd99zZLcDU"
      },
      "source": [
        "train.info()"
      ],
      "execution_count": null,
      "outputs": []
    },
    {
      "cell_type": "markdown",
      "metadata": {
        "id": "VpPAaEk5S-lo"
      },
      "source": [
        "#NULL 개수"
      ]
    },
    {
      "cell_type": "code",
      "metadata": {
        "id": "-UW3za4eRP2I"
      },
      "source": [
        "train.isnull().sum()"
      ],
      "execution_count": null,
      "outputs": []
    },
    {
      "cell_type": "markdown",
      "metadata": {
        "id": "v61wFOb-S7e-"
      },
      "source": [
        "#명목형 변수"
      ]
    },
    {
      "cell_type": "code",
      "metadata": {
        "id": "D2_rGB8OSTZB"
      },
      "source": [
        "category_feature = [ col for col in train.columns if train[col].dtypes == \"object\"]\n",
        "category_feature\n"
      ],
      "execution_count": null,
      "outputs": []
    },
    {
      "cell_type": "markdown",
      "metadata": {
        "id": "RJZdhsDeXomS"
      },
      "source": [
        "# 다중대처법(컬럼삭제 x)"
      ]
    },
    {
      "cell_type": "code",
      "metadata": {
        "id": "HGdOAsXdFaJN"
      },
      "source": [
        "train_no_salep_price = train.drop(['SalePrice'], axis=1)\n"
      ],
      "execution_count": null,
      "outputs": []
    },
    {
      "cell_type": "code",
      "metadata": {
        "id": "1LilIrLAFrd9"
      },
      "source": [
        "train.isnull().sum()"
      ],
      "execution_count": null,
      "outputs": []
    },
    {
      "cell_type": "code",
      "metadata": {
        "id": "Ff9ZZ0ViFtWG"
      },
      "source": [
        "test.isnull().sum()"
      ],
      "execution_count": null,
      "outputs": []
    },
    {
      "cell_type": "code",
      "metadata": {
        "id": "fpmcDl36FRvB"
      },
      "source": [
        "total = pd.concat([train_no_salep_price,test],axis=0,ignore_index=True)\n",
        "total"
      ],
      "execution_count": null,
      "outputs": []
    },
    {
      "cell_type": "code",
      "metadata": {
        "id": "mXwYO1cuFcKe"
      },
      "source": [
        "import missingno as msno\n",
        "msno.matrix(total)\n"
      ],
      "execution_count": null,
      "outputs": []
    },
    {
      "cell_type": "code",
      "metadata": {
        "id": "q-2xhZgYTZoD"
      },
      "source": [
        "dummy = pd.get_dummies(total)"
      ],
      "execution_count": null,
      "outputs": []
    },
    {
      "cell_type": "code",
      "metadata": {
        "id": "qv3gINGETmSq"
      },
      "source": [
        "dummy"
      ],
      "execution_count": null,
      "outputs": []
    },
    {
      "cell_type": "code",
      "metadata": {
        "id": "wA2rP0cjFfqc"
      },
      "source": [
        "total_impute = pd.DataFrame(IterativeImputer(verbose=False).fit_transform(dummy))\n",
        "total_impute"
      ],
      "execution_count": null,
      "outputs": []
    },
    {
      "cell_type": "code",
      "metadata": {
        "id": "p0UTMiwZUF0-"
      },
      "source": [
        "msno.matrix(total_impute)\n"
      ],
      "execution_count": null,
      "outputs": []
    },
    {
      "cell_type": "code",
      "metadata": {
        "id": "TUPjhYqyT2wg"
      },
      "source": [
        "total_cols = list(dummy.columns)\n",
        "total_impute.columns = total_cols\n",
        "# pd.DataFrame(IterativeImputer(verbose=False).fit_transform(dummy)).head()\n"
      ],
      "execution_count": null,
      "outputs": []
    },
    {
      "cell_type": "code",
      "metadata": {
        "id": "GfHcvfXm1wKj"
      },
      "source": [
        "X_train = total_impute[:1460] \n",
        "X_test = total_impute[1460:] \n",
        "# y_test = test['SalePrice']\n",
        "# train['SalePrice'] = np.log1p(train['SalePrice'])"
      ],
      "execution_count": null,
      "outputs": []
    },
    {
      "cell_type": "code",
      "metadata": {
        "id": "U4FfXZqyJzub"
      },
      "source": [
        "y_train = np.log1p(train['SalePrice'])\n"
      ],
      "execution_count": null,
      "outputs": []
    },
    {
      "cell_type": "code",
      "metadata": {
        "id": "1_HXZs_QVKD8"
      },
      "source": [
        "total_impute.shape"
      ],
      "execution_count": null,
      "outputs": []
    },
    {
      "cell_type": "code",
      "metadata": {
        "id": "9pIepsVzIQ3Q"
      },
      "source": [
        "msno.bar(total_impute)"
      ],
      "execution_count": null,
      "outputs": []
    },
    {
      "cell_type": "markdown",
      "metadata": {
        "id": "HkqwGtVpav5D"
      },
      "source": [
        "# 공산성"
      ]
    },
    {
      "cell_type": "code",
      "metadata": {
        "id": "IQPNVbD8kMcv"
      },
      "source": [
        "from patsy import dmatrices\n",
        "from statsmodels.stats.outliers_influence import variance_inflation_factor\n"
      ],
      "execution_count": null,
      "outputs": []
    },
    {
      "cell_type": "code",
      "metadata": {
        "id": "sco1FPfZo2JD"
      },
      "source": [
        "pd.options.display.float_format = '{:.5f}'.format\n"
      ],
      "execution_count": null,
      "outputs": []
    },
    {
      "cell_type": "markdown",
      "metadata": {
        "id": "6YRbw6TGqfdA"
      },
      "source": [
        "수치형 변수"
      ]
    },
    {
      "cell_type": "code",
      "metadata": {
        "id": "xPP95_G8lCBR"
      },
      "source": [
        "Numeric_feature = [ col for col in train.columns if train[col].dtypes != \"object\"]\n",
        "Numeric_feature"
      ],
      "execution_count": null,
      "outputs": []
    },
    {
      "cell_type": "markdown",
      "metadata": {
        "id": "7Q0PReeFqlOf"
      },
      "source": [
        "VIF"
      ]
    },
    {
      "cell_type": "code",
      "metadata": {
        "id": "UwSGdkguaxgu"
      },
      "source": [
        "y, X = dmatrices('SalePrice ~ Id+MSSubClass+LotFrontage+LotArea+OverallQual+OverallCond+YearBuilt+YearRemodAdd+MasVnrArea+BsmtFinSF1+BsmtFinSF2+BsmtUnfSF+TotalBsmtSF++LowQualFinSF+GrLivArea+BsmtFullBath+BsmtHalfBath+FullBath+HalfBath+BedroomAbvGr+KitchenAbvGr+TotRmsAbvGrd+Fireplaces+GarageYrBlt+GarageCars+GarageArea+WoodDeckSF+OpenPorchSF+EnclosedPorch+ScreenPorch+PoolArea+MiscVal+MoSold+YrSold+SalePrice', train, return_type = 'dataframe')\n",
        "\n",
        "vif = pd.DataFrame()\n",
        "vif[\"VIF Factor\"] = [variance_inflation_factor(X.values, i) for i in range(X.shape[1])]\n",
        "vif[\"features\"] = X.columns \n",
        "vif"
      ],
      "execution_count": null,
      "outputs": []
    },
    {
      "cell_type": "markdown",
      "metadata": {
        "id": "usiPEbonq0_c"
      },
      "source": [
        "범주형 변수"
      ]
    },
    {
      "cell_type": "code",
      "metadata": {
        "id": "5uKa7zzWrSy4"
      },
      "source": [
        "import statsmodels.api as sm;\n",
        "import scipy.stats as stats\n",
        "from scipy import stats\n",
        "import seaborn as sns\n",
        "import matplotlib.pyplot as plt"
      ],
      "execution_count": null,
      "outputs": []
    },
    {
      "cell_type": "code",
      "metadata": {
        "id": "6u_jBzEIq24r"
      },
      "source": [
        "train_cor = train[category_feature]\n",
        "train_cor"
      ],
      "execution_count": null,
      "outputs": []
    },
    {
      "cell_type": "code",
      "metadata": {
        "id": "I94sg-HQsFGJ"
      },
      "source": [
        "corr = train.corr(method='spearman')\n",
        "corr"
      ],
      "execution_count": null,
      "outputs": []
    },
    {
      "cell_type": "code",
      "metadata": {
        "id": "OOVpWIaFrDtk"
      },
      "source": [
        "sns.heatmap(corr, cmap='viridis')\n",
        "plt.show()"
      ],
      "execution_count": null,
      "outputs": []
    },
    {
      "cell_type": "code",
      "metadata": {
        "id": "kyMUpwxmwAnj"
      },
      "source": [
        "len(corr.columns)"
      ],
      "execution_count": null,
      "outputs": []
    },
    {
      "cell_type": "code",
      "metadata": {
        "id": "Twj9_9ySuJ7_"
      },
      "source": [
        "# 수치형은 그런걸 뺴긴 해야됨\n",
        "check_list = []\n",
        "for i in corr:\n",
        "    count = 0 \n",
        "    for j in corr[i]:\n",
        "        if j != 1.0 and j>0.7:\n",
        "            print(i,corr.columns[count],j)\n",
        "            check_list.append([i,corr.columns[count],j])\n",
        "        count+=1\n"
      ],
      "execution_count": null,
      "outputs": []
    },
    {
      "cell_type": "code",
      "metadata": {
        "id": "AvIpZ5nGyKhY"
      },
      "source": [
        "# 빼야될 항목 GarageArea , GarageYrBlt, TotRmsAbvGrd , 1stFlrSF (saleprice와 상관관계가 낮음)\n",
        "stats.spearmanr(train['SalePrice'],train['1stFlrSF'])"
      ],
      "execution_count": null,
      "outputs": []
    },
    {
      "cell_type": "markdown",
      "metadata": {
        "id": "pxrwKY8p0mBr"
      },
      "source": [
        "# 주성분분석(PCA)\n",
        "\n"
      ]
    },
    {
      "cell_type": "code",
      "metadata": {
        "id": "V8p_EBeK0nv2"
      },
      "source": [
        "from sklearn.preprocessing import StandardScaler  # 표준화 패키지 라이브러리 \n",
        "pca_train = pd.get_dummies(train)\n",
        "x = df_train.values # 독립변인들의 value값만 추출\n",
        "y = train['SalePrice'].values # 종속변인 추출\n",
        "x = StandardScaler().fit_transform(x) # x객체에 x를 표준화한 데이터를 저장\n",
        "\n",
        "features = df_train.columns\n",
        "pd.DataFrame(x, columns=features).head()"
      ],
      "execution_count": null,
      "outputs": []
    },
    {
      "cell_type": "code",
      "metadata": {
        "id": "AD68siVT04D_"
      },
      "source": [
        "from sklearn.decomposition import PCA\n",
        "pca = PCA(n_components=2) # 주성분을 몇개로 할지 결정\n",
        "printcipalComponents = pca.fit_transform(x)\n",
        "principalDf = pd.DataFrame(data=printcipalComponents)\n",
        "# 주성분으로 이루어진 데이터 프레임 구성"
      ],
      "execution_count": null,
      "outputs": []
    },
    {
      "cell_type": "code",
      "metadata": {
        "id": "x68dJKih27cl"
      },
      "source": [
        "principalDf.head()\n"
      ],
      "execution_count": null,
      "outputs": []
    },
    {
      "cell_type": "code",
      "metadata": {
        "id": "haqbbXGCfsYm"
      },
      "source": [
        "pca.explained_variance_ratio_"
      ],
      "execution_count": null,
      "outputs": []
    },
    {
      "cell_type": "code",
      "metadata": {
        "id": "Ft_MrhDNmit7"
      },
      "source": [
        "sum(pca.explained_variance_ratio_)\n"
      ],
      "execution_count": null,
      "outputs": []
    },
    {
      "cell_type": "markdown",
      "metadata": {
        "id": "UDYn9gOCvfTO"
      },
      "source": [
        "# 요인분석"
      ]
    },
    {
      "cell_type": "code",
      "metadata": {
        "id": "VjEiYD7HvoaI"
      },
      "source": [
        "pip install factor_analyzer"
      ],
      "execution_count": null,
      "outputs": []
    },
    {
      "cell_type": "code",
      "metadata": {
        "id": "glsuya9_vgrU"
      },
      "source": [
        "from factor_analyzer import FactorAnalyzer"
      ],
      "execution_count": null,
      "outputs": []
    },
    {
      "cell_type": "code",
      "metadata": {
        "id": "OqKJcC3mwyuJ"
      },
      "source": [
        "items = df_train.columns"
      ],
      "execution_count": null,
      "outputs": []
    },
    {
      "cell_type": "code",
      "metadata": {
        "id": "TvHyKAzZvhNu"
      },
      "source": [
        "fa = FactorAnalyzer(n_factors=8, method=\"ml\", rotation=\"promax\")\n",
        "fa.fit(df_train)"
      ],
      "execution_count": null,
      "outputs": []
    },
    {
      "cell_type": "code",
      "metadata": {
        "id": "VBeL607_v3YE"
      },
      "source": [
        "fa.loadings_"
      ],
      "execution_count": null,
      "outputs": []
    },
    {
      "cell_type": "code",
      "metadata": {
        "id": "ZxowljuSv9QQ"
      },
      "source": [
        "efa_result= pd.DataFrame(fa.loadings_, index=items)"
      ],
      "execution_count": null,
      "outputs": []
    },
    {
      "cell_type": "code",
      "metadata": {
        "id": "ETo12A5YwArN"
      },
      "source": [
        "plt.figure(figsize=(6,10))\n",
        "sns.heatmap(efa_result, cmap=\"Blues\", annot=True, fmt='.2f')"
      ],
      "execution_count": null,
      "outputs": []
    },
    {
      "cell_type": "code",
      "metadata": {
        "id": "N4dHP2-wwDin"
      },
      "source": [
        "def CronbachAlpha(itemscores):\n",
        "    itemscores = np.asarray(itemscores)\n",
        "    itemvars = itemscores.var(axis=0, ddof=1)\n",
        "    tscores = itemscores.sum(axis=1)\n",
        "    nitems = itemscores.shape[1]\n",
        "    return (nitems / (nitems-1)) * (1 - (itemvars.sum() / tscores.var(ddof=1)))\n"
      ],
      "execution_count": null,
      "outputs": []
    },
    {
      "cell_type": "markdown",
      "metadata": {
        "id": "oI9jzhSP0uDQ"
      },
      "source": [
        "# 머신러닝"
      ]
    },
    {
      "cell_type": "code",
      "metadata": {
        "id": "NKxRQTbx0vrh"
      },
      "source": [
        "from sklearn.ensemble import RandomForestRegressor\n",
        "from sklearn.metrics import accuracy_score,explained_variance_score, mean_squared_error, mean_absolute_error, r2_score\n",
        "from sklearn import metrics"
      ],
      "execution_count": null,
      "outputs": []
    },
    {
      "cell_type": "code",
      "metadata": {
        "id": "4kzCi91SFjGp"
      },
      "source": [
        "# train['SalePrice'] = np.log1p(train['SalePrice'])"
      ],
      "execution_count": null,
      "outputs": []
    },
    {
      "cell_type": "code",
      "metadata": {
        "id": "R4JWQyWa-t_J"
      },
      "source": [
        "X_train, X_test, y_train, y_test = train_test_split(X_train, y_train, test_size=0.3, random_state=777)\n"
      ],
      "execution_count": null,
      "outputs": []
    },
    {
      "cell_type": "code",
      "metadata": {
        "id": "OC0_gGrF0-s_"
      },
      "source": [
        "print(len(X_test),len(y_test))"
      ],
      "execution_count": null,
      "outputs": []
    },
    {
      "cell_type": "markdown",
      "metadata": {
        "id": "13Z8D_i02O8y"
      },
      "source": [
        "## Random Forest"
      ]
    },
    {
      "cell_type": "code",
      "metadata": {
        "id": "gyQ-QvP60wDR"
      },
      "source": [
        "regressor = RandomForestRegressor()\n",
        "regressor.fit(X_train, y_train)\n",
        "y_pred = regressor.predict(X_test)"
      ],
      "execution_count": null,
      "outputs": []
    },
    {
      "cell_type": "code",
      "metadata": {
        "id": "ID3YRv-oD9ZA"
      },
      "source": [
        "def rmse(predictions, targets):\n",
        "    return np.sqrt(((predictions - targets) ** 2).mean())"
      ],
      "execution_count": null,
      "outputs": []
    },
    {
      "cell_type": "code",
      "metadata": {
        "id": "1cXa8QUa1JyH"
      },
      "source": [
        "print('Root Mean Squared Error:',rmse(y_pred,y_test))"
      ],
      "execution_count": null,
      "outputs": []
    },
    {
      "cell_type": "markdown",
      "metadata": {
        "id": "SmPlRxVI6mi8"
      },
      "source": [
        "## XG boost"
      ]
    },
    {
      "cell_type": "code",
      "metadata": {
        "id": "CPgu6Dw02eJ0"
      },
      "source": [
        "from xgboost import XGBRegressor"
      ],
      "execution_count": null,
      "outputs": []
    },
    {
      "cell_type": "code",
      "metadata": {
        "id": "EapcZfdA2i9-"
      },
      "source": [
        "xgb_model = XGBRegressor()\n",
        "xgb_model.fit(X_train, y_train)\n",
        "y_pred = xgb_model.predict(X_test)"
      ],
      "execution_count": null,
      "outputs": []
    },
    {
      "cell_type": "code",
      "metadata": {
        "id": "pTzSfi0h2nKh"
      },
      "source": [
        "print('Root Mean Squared Error:', np.sqrt(metrics.mean_squared_error(y_test, y_pred)))"
      ],
      "execution_count": null,
      "outputs": []
    },
    {
      "cell_type": "markdown",
      "metadata": {
        "id": "V6rUBtJhoaRa"
      },
      "source": [
        "## DecisionTreeRegressor"
      ]
    },
    {
      "cell_type": "code",
      "metadata": {
        "id": "kMSZo5DgBqqG"
      },
      "source": [
        "from sklearn.tree import DecisionTreeRegressor\n",
        "dtr = DecisionTreeRegressor()\n",
        "dtr.fit(X_train, y_train)\n",
        "y_pred = dtr.predict(X_test)"
      ],
      "execution_count": null,
      "outputs": []
    },
    {
      "cell_type": "code",
      "metadata": {
        "id": "giXfYS96olat"
      },
      "source": [
        "print('Root Mean Squared Error:',rmse(y_pred,y_test))"
      ],
      "execution_count": null,
      "outputs": []
    },
    {
      "cell_type": "markdown",
      "metadata": {
        "id": "8a8h0RGZpG3v"
      },
      "source": [
        "## LassoCV"
      ]
    },
    {
      "cell_type": "code",
      "metadata": {
        "id": "xT9MtNLzpH8s"
      },
      "source": [
        "from sklearn.linear_model import LassoCV\n",
        "model = LassoCV()\n",
        "model.fit(X_train, y_train)\n",
        "y_pred = model.predict(X_test)"
      ],
      "execution_count": null,
      "outputs": []
    },
    {
      "cell_type": "code",
      "metadata": {
        "id": "_bmyaI9spwsD"
      },
      "source": [
        "print('Root Mean Squared Error:',rmse(y_pred,y_test))"
      ],
      "execution_count": null,
      "outputs": []
    },
    {
      "cell_type": "markdown",
      "metadata": {
        "id": "ifaCzJJ3pXMQ"
      },
      "source": [
        "## ElasticNetCV"
      ]
    },
    {
      "cell_type": "code",
      "metadata": {
        "id": "Q_i535K9pXxm"
      },
      "source": [
        "from sklearn.linear_model import ElasticNetCV\n",
        "model = ElasticNetCV()\n",
        "model.fit(X_train, y_train)\n",
        "y_pred = model.predict(X_test)"
      ],
      "execution_count": null,
      "outputs": []
    },
    {
      "cell_type": "code",
      "metadata": {
        "id": "VS45972ZpyR0"
      },
      "source": [
        "print('Root Mean Squared Error:',rmse(y_pred,y_test))"
      ],
      "execution_count": null,
      "outputs": []
    },
    {
      "cell_type": "markdown",
      "metadata": {
        "id": "sNvW5F_4sMZg"
      },
      "source": [
        "## SVR"
      ]
    },
    {
      "cell_type": "code",
      "metadata": {
        "id": "SNwYXRJep0nX"
      },
      "source": [
        "from sklearn.svm import LinearSVR\n",
        "model = LinearSVR()\n",
        "model.fit(X_train, y_train)\n",
        "y_pred = model.predict(X_test)"
      ],
      "execution_count": null,
      "outputs": []
    },
    {
      "cell_type": "code",
      "metadata": {
        "id": "9lglFHqrr77_"
      },
      "source": [
        "print('Root Mean Squared Error:',rmse(y_pred,y_test))"
      ],
      "execution_count": null,
      "outputs": []
    },
    {
      "cell_type": "markdown",
      "metadata": {
        "id": "lMBJtS8KtKUe"
      },
      "source": [
        "## BayesianRidge"
      ]
    },
    {
      "cell_type": "code",
      "metadata": {
        "id": "1BFpWeJhsKi3"
      },
      "source": [
        "from sklearn.linear_model import BayesianRidge\n",
        "model = BayesianRidge()\n",
        "model.fit(X_train, y_train)\n",
        "y_pred = model.predict(X_test)\n"
      ],
      "execution_count": null,
      "outputs": []
    },
    {
      "cell_type": "code",
      "metadata": {
        "id": "wReQaHwTsXPK"
      },
      "source": [
        "print('Root Mean Squared Error:',rmse(y_pred,y_test))"
      ],
      "execution_count": null,
      "outputs": []
    },
    {
      "cell_type": "markdown",
      "metadata": {
        "id": "Ps_lVg0ltScg"
      },
      "source": [
        "## KNeighborsRegressor"
      ]
    },
    {
      "cell_type": "code",
      "metadata": {
        "id": "KZnf16h3s4mB"
      },
      "source": [
        "from sklearn.neighbors import KNeighborsRegressor\n",
        "model = KNeighborsRegressor()\n",
        "model.fit(X_train, y_train)\n",
        "y_pred = model.predict(X_test)"
      ],
      "execution_count": null,
      "outputs": []
    },
    {
      "cell_type": "code",
      "metadata": {
        "id": "gxJLpgV0tQxG"
      },
      "source": [
        "print('Root Mean Squared Error:',rmse(y_pred,y_test))"
      ],
      "execution_count": null,
      "outputs": []
    },
    {
      "cell_type": "markdown",
      "metadata": {
        "id": "KzqMNB_OxD4g"
      },
      "source": [
        "## DecisionTreeRegressor"
      ]
    },
    {
      "cell_type": "code",
      "metadata": {
        "id": "0YqxavuFtRX3"
      },
      "source": [
        "from sklearn.tree import DecisionTreeRegressor\n",
        "model = DecisionTreeRegressor()\n",
        "model.fit(X_train, y_train)\n",
        "y_pred = model.predict(X_test)"
      ],
      "execution_count": null,
      "outputs": []
    },
    {
      "cell_type": "code",
      "metadata": {
        "id": "56JoCkFftisO"
      },
      "source": [
        "print('Root Mean Squared Error:',rmse(y_pred,y_test))"
      ],
      "execution_count": null,
      "outputs": []
    },
    {
      "cell_type": "markdown",
      "metadata": {
        "id": "s2N7a6Fiw-XI"
      },
      "source": [
        "## GradientBoostingRegressor"
      ]
    },
    {
      "cell_type": "code",
      "metadata": {
        "id": "hnLT2nQUtj3m"
      },
      "source": [
        "from sklearn.ensemble import GradientBoostingRegressor\n",
        "model = GradientBoostingRegressor()\n",
        "model.fit(X_train, y_train)\n",
        "y_pred = model.predict(X_test)"
      ],
      "execution_count": null,
      "outputs": []
    },
    {
      "cell_type": "code",
      "metadata": {
        "id": "TYh3MAdXuLFf"
      },
      "source": [
        "print('Root Mean Squared Error:',rmse(y_pred,y_test))"
      ],
      "execution_count": null,
      "outputs": []
    },
    {
      "cell_type": "markdown",
      "metadata": {
        "id": "gsGRPbw5yNwj"
      },
      "source": [
        "## LGBM"
      ]
    },
    {
      "cell_type": "code",
      "metadata": {
        "id": "Gr49Vxc2udaS"
      },
      "source": [
        "from lightgbm import LGBMRegressor\n",
        "model = LGBMRegressor()\n",
        "model.fit(X_train, y_train)\n",
        "y_pred = model.predict(X_test)"
      ],
      "execution_count": null,
      "outputs": []
    },
    {
      "cell_type": "code",
      "metadata": {
        "id": "iOPIBxStx_7w"
      },
      "source": [
        "print('Root Mean Squared Error:',rmse(y_pred,y_test))"
      ],
      "execution_count": null,
      "outputs": []
    },
    {
      "cell_type": "markdown",
      "metadata": {
        "id": "j4wiwHoCzhLD"
      },
      "source": [
        "# 앙상블 기법"
      ]
    },
    {
      "cell_type": "markdown",
      "metadata": {
        "id": "LAPkHx3jz_f-"
      },
      "source": [
        ""
      ]
    },
    {
      "cell_type": "markdown",
      "metadata": {
        "id": "JlaKsWHc4fHB"
      },
      "source": [
        "## voting"
      ]
    },
    {
      "cell_type": "code",
      "metadata": {
        "id": "hES_xhb9yMh4"
      },
      "source": [
        "from sklearn.ensemble import VotingClassifier, VotingRegressor\n",
        "from sklearn.model_selection import KFold\n",
        "from sklearn.model_selection import cross_validate\n",
        "\n",
        "# ensemble 할 model 정의\n",
        "models = [\n",
        "    # ('enc', ElasticNetCV()),\n",
        "    # ('bc', LinearSVR()),\n",
        "    ('br',BayesianRidge()),\n",
        "    # ('rfc', RandomForestRegressor()),\n",
        "    # ('knn', KNeighborsRegressor()),\n",
        "    # ('lc', LassoCV()),\n",
        "    # ('lgbm', LGBMRegressor()),\n",
        "    # ('dtr', DecisionTreeRegressor()),\n",
        "    ('xgb', XGBRegressor()),\n",
        "    ('gbr',GradientBoostingRegressor()),\n",
        "    # ('rf', RandomForestRegressor())\n",
        "]\n",
        "voting_regressor = VotingRegressor(models, n_jobs=-1)\n",
        "voting_regressor.fit(X_train, y_train)\n",
        "voting_pred = voting_regressor.predict(X_test)\n",
        "print('Root Mean Squared Error:',rmse(voting_pred,y_test))"
      ],
      "execution_count": null,
      "outputs": []
    },
    {
      "cell_type": "markdown",
      "metadata": {
        "id": "g4P3Dyfq4t4T"
      },
      "source": [
        "## stacking"
      ]
    },
    {
      "cell_type": "code",
      "metadata": {
        "id": "W7mC0Uk11v_W"
      },
      "source": [
        "from sklearn.ensemble import StackingRegressor\n",
        "models = [\n",
        "    # ('enc', ElasticNetCV()),\n",
        "    # ('lsvr', LinearSVR()),\n",
        "    ('br',BayesianRidge()),\n",
        "    # ('rfc', RandomForestRegressor()),\n",
        "    ('knn', KNeighborsRegressor()),\n",
        "    # ('lc', LassoCV()),\n",
        "    ('lgbm', LGBMRegressor()),\n",
        "    # ('dtr', DecisionTreeRegressor()),\n",
        "    ('xgb', XGBRegressor()),\n",
        "    ('gbr',GradientBoostingRegressor()),\n",
        "    # ('rf', RandomForestRegressor()),\n",
        "\n",
        "]\n",
        "xgb = XGBRegressor()\n",
        "gbr = GradientBoostingRegressor()\n",
        "lgbm = LGBMRegressor()\n",
        "br = BayesianRidge()\n",
        "rf = RandomForestRegressor()\n",
        "stack_reg = StackingRegressor(models, final_estimator=gbr, n_jobs=-1)\n",
        "stack_reg.fit(X_train, y_train)\n",
        "stack_pred = stack_reg.predict(X_test)\n",
        "print('Root Mean Squared Error:',rmse(stack_pred,y_test))"
      ],
      "execution_count": null,
      "outputs": []
    },
    {
      "cell_type": "code",
      "metadata": {
        "id": "XY7ci_Uv45-r"
      },
      "source": [
        ""
      ],
      "execution_count": null,
      "outputs": []
    }
  ]
}