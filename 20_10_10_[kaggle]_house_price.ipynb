{
  "nbformat": 4,
  "nbformat_minor": 0,
  "metadata": {
    "colab": {
      "name": "20.10.10 [kaggle] house_price.ipynb",
      "provenance": [],
      "private_outputs": true,
      "collapsed_sections": [],
      "toc_visible": true
    },
    "kernelspec": {
      "name": "python3",
      "display_name": "Python 3"
    }
  },
  "cells": [
    {
      "cell_type": "code",
      "metadata": {
        "id": "aFepV_CmitMR"
      },
      "source": [
        "pip install impyute"
      ],
      "execution_count": null,
      "outputs": []
    },
    {
      "cell_type": "code",
      "metadata": {
        "id": "efET0ZZKixNq"
      },
      "source": [
        "pip install sklearn"
      ],
      "execution_count": null,
      "outputs": []
    },
    {
      "cell_type": "code",
      "metadata": {
        "id": "B9lkWLeYP6dv"
      },
      "source": [
        "import pandas as pd\n",
        "import numpy as np\n",
        "from sklearn.experimental import enable_iterative_imputer\n",
        "from sklearn.impute import IterativeImputer\n",
        "from sklearn.linear_model import LinearRegression\n",
        "from impyute.imputation.cs import mice\n"
      ],
      "execution_count": null,
      "outputs": []
    },
    {
      "cell_type": "code",
      "metadata": {
        "id": "9YgtfES8SQ3W"
      },
      "source": [
        "pd.set_option('display.max_colwidth',-1)\n",
        "pd.set_option('display.max_columns', 500)\n",
        "pd.set_option('display.max_rows', 500)\n",
        "pd.set_option('display.width', 1000)"
      ],
      "execution_count": null,
      "outputs": []
    },
    {
      "cell_type": "code",
      "metadata": {
        "id": "C91d5aT9JBAD"
      },
      "source": [
        "test = pd.read_csv('/content/drive/My Drive/data/kaggle/house-prices/test.csv', encoding = 'cp949')\n",
        "train = pd.read_csv('/content/drive/My Drive/data/kaggle/house-prices/train.csv', encoding = 'cp949')\n"
      ],
      "execution_count": null,
      "outputs": []
    },
    {
      "cell_type": "markdown",
      "metadata": {
        "id": "qAWasIZhTBaO"
      },
      "source": [
        "#데이터 타입 확인"
      ]
    },
    {
      "cell_type": "markdown",
      "metadata": {
        "id": "LUvszw6NTBXS"
      },
      "source": [
        ""
      ]
    },
    {
      "cell_type": "code",
      "metadata": {
        "id": "AZmd99zZLcDU"
      },
      "source": [
        "train.info()"
      ],
      "execution_count": null,
      "outputs": []
    },
    {
      "cell_type": "markdown",
      "metadata": {
        "id": "VpPAaEk5S-lo"
      },
      "source": [
        "#NULL 개수"
      ]
    },
    {
      "cell_type": "code",
      "metadata": {
        "id": "-UW3za4eRP2I"
      },
      "source": [
        "train.isnull().sum()"
      ],
      "execution_count": null,
      "outputs": []
    },
    {
      "cell_type": "markdown",
      "metadata": {
        "id": "v61wFOb-S7e-"
      },
      "source": [
        "#명목형 변수"
      ]
    },
    {
      "cell_type": "code",
      "metadata": {
        "id": "D2_rGB8OSTZB"
      },
      "source": [
        "category_feature = [ col for col in train.columns if train[col].dtypes == \"object\"]\n",
        "category_feature\n"
      ],
      "execution_count": null,
      "outputs": []
    },
    {
      "cell_type": "markdown",
      "metadata": {
        "id": "RJZdhsDeXomS"
      },
      "source": [
        "# 다중대처법(컬럼삭제 x)"
      ]
    },
    {
      "cell_type": "code",
      "metadata": {
        "id": "HGdOAsXdFaJN"
      },
      "source": [
        "train_no_salep_price = train.drop(['SalePrice'], axis=1)\n"
      ],
      "execution_count": null,
      "outputs": []
    },
    {
      "cell_type": "code",
      "metadata": {
        "id": "1LilIrLAFrd9"
      },
      "source": [
        "train.isnull().sum()"
      ],
      "execution_count": null,
      "outputs": []
    },
    {
      "cell_type": "code",
      "metadata": {
        "id": "Ff9ZZ0ViFtWG"
      },
      "source": [
        "test.isnull().sum()"
      ],
      "execution_count": null,
      "outputs": []
    },
    {
      "cell_type": "code",
      "metadata": {
        "id": "fpmcDl36FRvB"
      },
      "source": [
        "total = pd.concat([train_no_salep_price,test],axis=0,ignore_index=True)\n",
        "total"
      ],
      "execution_count": null,
      "outputs": []
    },
    {
      "cell_type": "code",
      "metadata": {
        "id": "mXwYO1cuFcKe"
      },
      "source": [
        "import missingno as msno\n",
        "msno.matrix(total)\n"
      ],
      "execution_count": null,
      "outputs": []
    },
    {
      "cell_type": "code",
      "metadata": {
        "id": "q-2xhZgYTZoD"
      },
      "source": [
        "dummy = pd.get_dummies(total)"
      ],
      "execution_count": null,
      "outputs": []
    },
    {
      "cell_type": "code",
      "metadata": {
        "id": "qv3gINGETmSq"
      },
      "source": [
        "dummy"
      ],
      "execution_count": null,
      "outputs": []
    },
    {
      "cell_type": "code",
      "metadata": {
        "id": "wA2rP0cjFfqc"
      },
      "source": [
        "total_impute = pd.DataFrame(IterativeImputer(verbose=False).fit_transform(dummy))\n",
        "total_impute"
      ],
      "execution_count": null,
      "outputs": []
    },
    {
      "cell_type": "code",
      "metadata": {
        "id": "p0UTMiwZUF0-"
      },
      "source": [
        "msno.matrix(total_impute)\n"
      ],
      "execution_count": null,
      "outputs": []
    },
    {
      "cell_type": "code",
      "metadata": {
        "id": "TUPjhYqyT2wg"
      },
      "source": [
        "total_cols = list(dummy.columns)\n",
        "total_impute.columns = total_cols\n",
        "# pd.DataFrame(IterativeImputer(verbose=False).fit_transform(dummy)).head()\n",
        "df_train = total_impute[:1459] \n"
      ],
      "execution_count": null,
      "outputs": []
    },
    {
      "cell_type": "code",
      "metadata": {
        "id": "1_HXZs_QVKD8"
      },
      "source": [
        "total_impute.shape"
      ],
      "execution_count": null,
      "outputs": []
    },
    {
      "cell_type": "code",
      "metadata": {
        "id": "9pIepsVzIQ3Q"
      },
      "source": [
        "msno.bar(total_impute)"
      ],
      "execution_count": null,
      "outputs": []
    },
    {
      "cell_type": "markdown",
      "metadata": {
        "id": "HkqwGtVpav5D"
      },
      "source": [
        "# 공산성"
      ]
    },
    {
      "cell_type": "code",
      "metadata": {
        "id": "IQPNVbD8kMcv"
      },
      "source": [
        "from patsy import dmatrices\n",
        "from statsmodels.stats.outliers_influence import variance_inflation_factor\n"
      ],
      "execution_count": null,
      "outputs": []
    },
    {
      "cell_type": "code",
      "metadata": {
        "id": "sco1FPfZo2JD"
      },
      "source": [
        "pd.options.display.float_format = '{:.5f}'.format\n"
      ],
      "execution_count": null,
      "outputs": []
    },
    {
      "cell_type": "markdown",
      "metadata": {
        "id": "6YRbw6TGqfdA"
      },
      "source": [
        "수치형 변수"
      ]
    },
    {
      "cell_type": "code",
      "metadata": {
        "id": "xPP95_G8lCBR"
      },
      "source": [
        "Numeric_feature = [ col for col in train.columns if train[col].dtypes != \"object\"]\n",
        "Numeric_feature"
      ],
      "execution_count": null,
      "outputs": []
    },
    {
      "cell_type": "markdown",
      "metadata": {
        "id": "7Q0PReeFqlOf"
      },
      "source": [
        "VIF"
      ]
    },
    {
      "cell_type": "code",
      "metadata": {
        "id": "UwSGdkguaxgu"
      },
      "source": [
        "y, X = dmatrices('SalePrice ~ Id+MSSubClass+LotFrontage+LotArea+OverallQual+OverallCond+YearBuilt+YearRemodAdd+MasVnrArea+BsmtFinSF1+BsmtFinSF2+BsmtUnfSF+TotalBsmtSF++LowQualFinSF+GrLivArea+BsmtFullBath+BsmtHalfBath+FullBath+HalfBath+BedroomAbvGr+KitchenAbvGr+TotRmsAbvGrd+Fireplaces+GarageYrBlt+GarageCars+GarageArea+WoodDeckSF+OpenPorchSF+EnclosedPorch+ScreenPorch+PoolArea+MiscVal+MoSold+YrSold+SalePrice', train, return_type = 'dataframe')\n",
        "\n",
        "vif = pd.DataFrame()\n",
        "vif[\"VIF Factor\"] = [variance_inflation_factor(X.values, i) for i in range(X.shape[1])]\n",
        "vif[\"features\"] = X.columns \n",
        "vif"
      ],
      "execution_count": null,
      "outputs": []
    },
    {
      "cell_type": "markdown",
      "metadata": {
        "id": "usiPEbonq0_c"
      },
      "source": [
        "범주형 변수"
      ]
    },
    {
      "cell_type": "code",
      "metadata": {
        "id": "5uKa7zzWrSy4"
      },
      "source": [
        "import statsmodels.api as sm;\n",
        "import scipy.stats as stats\n",
        "from scipy import stats\n",
        "import seaborn as sns\n",
        "import matplotlib.pyplot as plt\n"
      ],
      "execution_count": null,
      "outputs": []
    },
    {
      "cell_type": "code",
      "metadata": {
        "id": "6u_jBzEIq24r"
      },
      "source": [
        "train_cor = train[category_feature]\n",
        "train_cor"
      ],
      "execution_count": null,
      "outputs": []
    },
    {
      "cell_type": "code",
      "metadata": {
        "id": "I94sg-HQsFGJ"
      },
      "source": [
        "corr = train.corr(method='spearman')\n",
        "corr"
      ],
      "execution_count": null,
      "outputs": []
    },
    {
      "cell_type": "code",
      "metadata": {
        "id": "OOVpWIaFrDtk"
      },
      "source": [
        "sns.heatmap(corr, cmap='viridis')\n",
        "plt.show()"
      ],
      "execution_count": null,
      "outputs": []
    },
    {
      "cell_type": "code",
      "metadata": {
        "id": "kyMUpwxmwAnj"
      },
      "source": [
        "len(corr.columns)"
      ],
      "execution_count": null,
      "outputs": []
    },
    {
      "cell_type": "code",
      "metadata": {
        "id": "Twj9_9ySuJ7_"
      },
      "source": [
        "check_list = []\n",
        "for i in corr:\n",
        "    count = 0 \n",
        "    for j in corr[i]:\n",
        "        if j != 1.0 and j>0.7:\n",
        "            print(i,corr.columns[count],j)\n",
        "            check_list.append([i,corr.columns[count],j])\n",
        "        count+=1\n"
      ],
      "execution_count": null,
      "outputs": []
    },
    {
      "cell_type": "code",
      "metadata": {
        "id": "AvIpZ5nGyKhY"
      },
      "source": [
        "# 빼야될 항목 GarageArea , GarageYrBlt, TotRmsAbvGrd , 1stFlrSF (saleprice와 상관관계가 낮음)\n",
        "stats.spearmanr(train['SalePrice'],train['1stFlrSF'])"
      ],
      "execution_count": null,
      "outputs": []
    },
    {
      "cell_type": "markdown",
      "metadata": {
        "id": "pxrwKY8p0mBr"
      },
      "source": [
        "# 주성분분석(PCA)\n",
        "\n"
      ]
    },
    {
      "cell_type": "code",
      "metadata": {
        "id": "V8p_EBeK0nv2"
      },
      "source": [
        "from sklearn.preprocessing import StandardScaler  # 표준화 패키지 라이브러리 \n",
        "pca_train = pd.get_dummies(train)\n",
        "x = df_train.values # 독립변인들의 value값만 추출\n",
        "y = train['SalePrice'].values # 종속변인 추출\n",
        "x = StandardScaler().fit_transform(x) # x객체에 x를 표준화한 데이터를 저장\n",
        "\n",
        "features = df_train.columns\n",
        "pd.DataFrame(x, columns=features).head()"
      ],
      "execution_count": null,
      "outputs": []
    },
    {
      "cell_type": "code",
      "metadata": {
        "id": "AD68siVT04D_"
      },
      "source": [
        "from sklearn.decomposition import PCA\n",
        "pca = PCA(n_components=2) # 주성분을 몇개로 할지 결정\n",
        "printcipalComponents = pca.fit_transform(x)\n",
        "principalDf = pd.DataFrame(data=printcipalComponents)\n",
        "# 주성분으로 이루어진 데이터 프레임 구성"
      ],
      "execution_count": null,
      "outputs": []
    },
    {
      "cell_type": "code",
      "metadata": {
        "id": "x68dJKih27cl"
      },
      "source": [
        "principalDf.head()\n"
      ],
      "execution_count": null,
      "outputs": []
    },
    {
      "cell_type": "code",
      "metadata": {
        "id": "haqbbXGCfsYm"
      },
      "source": [
        "pca.explained_variance_ratio_"
      ],
      "execution_count": null,
      "outputs": []
    },
    {
      "cell_type": "code",
      "metadata": {
        "id": "Ft_MrhDNmit7"
      },
      "source": [
        "sum(pca.explained_variance_ratio_)\n"
      ],
      "execution_count": null,
      "outputs": []
    },
    {
      "cell_type": "code",
      "metadata": {
        "id": "Csaoc63ymmmP"
      },
      "source": [
        ""
      ],
      "execution_count": null,
      "outputs": []
    }
  ]
}