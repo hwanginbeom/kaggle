{
  "nbformat": 4,
  "nbformat_minor": 0,
  "metadata": {
    "colab": {
      "name": "[kaggle] titanic.ipynb",
      "provenance": [],
      "private_outputs": true,
      "collapsed_sections": []
    },
    "kernelspec": {
      "name": "python3",
      "display_name": "Python 3"
    }
  },
  "cells": [
    {
      "cell_type": "code",
      "metadata": {
        "id": "pUqiT6GrecLV"
      },
      "source": [
        "pip install impyute"
      ],
      "execution_count": null,
      "outputs": []
    },
    {
      "cell_type": "code",
      "metadata": {
        "id": "PtNerNfWPkyy"
      },
      "source": [
        "import pandas as pd\n",
        "import numpy as np\n",
        "from sklearn.experimental import enable_iterative_imputer\n",
        "from sklearn.impute import IterativeImputer\n",
        "from sklearn.linear_model import LinearRegression\n",
        "from sklearn.model_selection import train_test_split\n",
        "import matplotlib.pyplot as plt\n",
        "import matplotlib as mpl\n",
        "from sklearn.experimental import enable_iterative_imputer\n",
        "from sklearn.impute import IterativeImputer\n",
        "from sklearn.linear_model import LinearRegression\n",
        "from impyute.imputation.cs import mice\n",
        "from sklearn.model_selection import train_test_split"
      ],
      "execution_count": null,
      "outputs": []
    },
    {
      "cell_type": "code",
      "metadata": {
        "id": "D40DI-roPv3B"
      },
      "source": [
        "test = pd.read_csv('/content/drive/My Drive/data/kaggle/titanic/test.csv', encoding = 'cp949')\n",
        "train = pd.read_csv('/content/drive/My Drive/data/kaggle/titanic/train.csv', encoding = 'cp949')\n"
      ],
      "execution_count": null,
      "outputs": []
    },
    {
      "cell_type": "markdown",
      "metadata": {
        "id": "2Ux6hBjFQGNk"
      },
      "source": [
        "# 1.컬럼 확인"
      ]
    },
    {
      "cell_type": "code",
      "metadata": {
        "id": "Zb9Y-JY1P9Tb"
      },
      "source": [
        "train.info()"
      ],
      "execution_count": null,
      "outputs": []
    },
    {
      "cell_type": "code",
      "metadata": {
        "id": "HqcHw1wgQDD4"
      },
      "source": [
        "train.isnull().sum()"
      ],
      "execution_count": null,
      "outputs": []
    },
    {
      "cell_type": "code",
      "metadata": {
        "id": "18zoI-DrQFF0"
      },
      "source": [
        "train.tail(5)"
      ],
      "execution_count": null,
      "outputs": []
    },
    {
      "cell_type": "code",
      "metadata": {
        "id": "MmGQmAplS3Bv"
      },
      "source": [
        "test.isnull().sum()"
      ],
      "execution_count": null,
      "outputs": []
    },
    {
      "cell_type": "markdown",
      "metadata": {
        "id": "rOr8MBa2eoZz"
      },
      "source": [
        "#2.전처리"
      ]
    },
    {
      "cell_type": "markdown",
      "metadata": {
        "id": "FIMnNGnrT8p2"
      },
      "source": [
        "## 필요없는 컬럼 삭제"
      ]
    },
    {
      "cell_type": "code",
      "metadata": {
        "id": "rR8TbcJ9iufv"
      },
      "source": [
        ""
      ],
      "execution_count": null,
      "outputs": []
    },
    {
      "cell_type": "code",
      "metadata": {
        "id": "pocPqF-1T7qR"
      },
      "source": [
        "train.drop(\"PassengerId\", axis = 1, inplace = True)\n",
        "test.drop(\"PassengerId\", axis = 1, inplace = True)\n",
        "train.drop(\"Name\", axis = 1, inplace = True)\n",
        "test.drop(\"Name\", axis = 1, inplace = True)\n",
        "train.drop(\"Ticket\", axis = 1, inplace = True)\n",
        "test.drop(\"Ticket\", axis = 1, inplace = True)"
      ],
      "execution_count": null,
      "outputs": []
    },
    {
      "cell_type": "code",
      "metadata": {
        "id": "w4W2_WrEUXtg"
      },
      "source": [
        "train.info()"
      ],
      "execution_count": null,
      "outputs": []
    },
    {
      "cell_type": "markdown",
      "metadata": {
        "id": "3qhLuyhZUSvX"
      },
      "source": [
        "## 편향성 확인"
      ]
    },
    {
      "cell_type": "code",
      "metadata": {
        "id": "KBJbTup7TU8k"
      },
      "source": [
        "fig, ax = plt.subplots()\n",
        "ax.scatter(x = train['Age'], y = train['Survived'])\n",
        "plt.ylabel('Survived', fontsize=13)\n",
        "plt.xlabel('Age', fontsize=13)\n",
        "plt.show()"
      ],
      "execution_count": null,
      "outputs": []
    },
    {
      "cell_type": "code",
      "metadata": {
        "id": "T-CdLFtuUfQY"
      },
      "source": [
        "train[['Pclass']].boxplot()"
      ],
      "execution_count": null,
      "outputs": []
    },
    {
      "cell_type": "code",
      "metadata": {
        "id": "a5AXCQmdYMFN"
      },
      "source": [
        "train[['Age']].boxplot()"
      ],
      "execution_count": null,
      "outputs": []
    },
    {
      "cell_type": "code",
      "metadata": {
        "id": "CCOeR5WLYST0"
      },
      "source": [
        "#Correlation map to see how features are correlated with SalePrice\n",
        "import seaborn as sns\n",
        "\n",
        "corrmat = train.corr()\n",
        "plt.subplots(figsize=(12,9))\n",
        "sns.heatmap(data = corrmat, annot=True, \n",
        "fmt = '.2f', linewidths=.5, cmap='Blues')"
      ],
      "execution_count": null,
      "outputs": []
    },
    {
      "cell_type": "markdown",
      "metadata": {
        "id": "XmBgUCw1ckmT"
      },
      "source": [
        "## 결측치 처리"
      ]
    },
    {
      "cell_type": "code",
      "metadata": {
        "id": "d_CFg4arc0yY"
      },
      "source": [
        "train.isnull().sum()"
      ],
      "execution_count": null,
      "outputs": []
    },
    {
      "cell_type": "code",
      "metadata": {
        "id": "E4Do59yeiSNf"
      },
      "source": [
        "test.isnull().sum()"
      ],
      "execution_count": null,
      "outputs": []
    },
    {
      "cell_type": "code",
      "metadata": {
        "id": "HIRCqyRScj0y"
      },
      "source": [
        "# train[\"Embarked\"] = train[\"Embarked\"].fillna(\"None\")"
      ],
      "execution_count": null,
      "outputs": []
    },
    {
      "cell_type": "code",
      "metadata": {
        "id": "x3nUjNDps4R4"
      },
      "source": [
        "# del train['Ticket']\n",
        "# del test['Ticket']"
      ],
      "execution_count": null,
      "outputs": []
    },
    {
      "cell_type": "code",
      "metadata": {
        "id": "qe-PNXjUrzsA"
      },
      "source": [
        "train.head()"
      ],
      "execution_count": null,
      "outputs": []
    },
    {
      "cell_type": "code",
      "metadata": {
        "id": "lACV70lJibMU"
      },
      "source": [
        "# test[\"Fare\"] = test[\"Fare\"].fillna(\"None\")"
      ],
      "execution_count": null,
      "outputs": []
    },
    {
      "cell_type": "markdown",
      "metadata": {
        "id": "PooIhktlirgM"
      },
      "source": [
        "## 라벨인코더"
      ]
    },
    {
      "cell_type": "code",
      "metadata": {
        "id": "FHQGDTojairQ"
      },
      "source": [
        "# from sklearn.preprocessing import LabelEncoder\n",
        "# le = LabelEncoder()\n",
        "# train_result = le.fit_transform(train['Embarked'])\n",
        "# test_result = le.fit_transform(test['Embarked'])\n",
        "\n",
        "# # print(result)\n",
        "# train['Embarked'] = train_result\n",
        "# test['Embarked'] = test_result"
      ],
      "execution_count": null,
      "outputs": []
    },
    {
      "cell_type": "markdown",
      "metadata": {
        "id": "UJ9gRV2riwY4"
      },
      "source": [
        "## 다중대체법"
      ]
    },
    {
      "cell_type": "code",
      "metadata": {
        "id": "K5sJcC9tWtlo"
      },
      "source": [
        "train_no_Survived = train.drop(['Survived'], axis=1)\n"
      ],
      "execution_count": null,
      "outputs": []
    },
    {
      "cell_type": "code",
      "metadata": {
        "id": "bqoKNoLQe7zB"
      },
      "source": [
        "total = pd.concat([train_no_Survived,test],axis=0,ignore_index=True)\n"
      ],
      "execution_count": null,
      "outputs": []
    },
    {
      "cell_type": "code",
      "metadata": {
        "id": "ZqeaJV_Ke_o3"
      },
      "source": [
        "import missingno as msno\n",
        "msno.matrix(total)\n"
      ],
      "execution_count": null,
      "outputs": []
    },
    {
      "cell_type": "code",
      "metadata": {
        "id": "z0GlUUsifCZK"
      },
      "source": [
        "dummy = pd.get_dummies(total)"
      ],
      "execution_count": null,
      "outputs": []
    },
    {
      "cell_type": "code",
      "metadata": {
        "id": "2D8iKETKqRQu"
      },
      "source": [
        "dummy.shape"
      ],
      "execution_count": null,
      "outputs": []
    },
    {
      "cell_type": "code",
      "metadata": {
        "id": "xBbM_2wOi0oh"
      },
      "source": [
        "total_impute = pd.DataFrame(IterativeImputer(verbose=False).fit_transform(dummy))\n",
        "total_impute"
      ],
      "execution_count": null,
      "outputs": []
    },
    {
      "cell_type": "code",
      "metadata": {
        "id": "uEQz-Rd1i2Qd"
      },
      "source": [
        "msno.matrix(total_impute)\n"
      ],
      "execution_count": null,
      "outputs": []
    },
    {
      "cell_type": "code",
      "metadata": {
        "id": "ejAoN-b-kiUR"
      },
      "source": [
        "total_cols = list(dummy.columns)\n",
        "total_impute.columns = total_cols"
      ],
      "execution_count": null,
      "outputs": []
    },
    {
      "cell_type": "code",
      "metadata": {
        "id": "5KIEeFQjkpKh"
      },
      "source": [
        "X_train = total_impute[:891]\n",
        "X_test = total_impute[891:]"
      ],
      "execution_count": null,
      "outputs": []
    },
    {
      "cell_type": "code",
      "metadata": {
        "id": "LCxA1AUDksey"
      },
      "source": [
        "y_train = train['Survived']"
      ],
      "execution_count": null,
      "outputs": []
    },
    {
      "cell_type": "code",
      "metadata": {
        "id": "wdVZwiBnuxSc"
      },
      "source": [
        "from patsy import dmatrices\n",
        "from statsmodels.stats.outliers_influence import variance_inflation_factor\n"
      ],
      "execution_count": null,
      "outputs": []
    },
    {
      "cell_type": "code",
      "metadata": {
        "id": "dou5NHfPvCHv"
      },
      "source": [
        "pd.options.display.float_format = '{:.5f}'.format\n"
      ],
      "execution_count": null,
      "outputs": []
    },
    {
      "cell_type": "markdown",
      "metadata": {
        "id": "xiigYzqSc8xD"
      },
      "source": [
        "#3.다중공선성"
      ]
    },
    {
      "cell_type": "code",
      "metadata": {
        "id": "UKUtFXfrvDy0"
      },
      "source": [
        "Numeric_feature = [ col for col in train.columns if train[col].dtypes != \"object\"]\n",
        "Numeric_feature"
      ],
      "execution_count": null,
      "outputs": []
    },
    {
      "cell_type": "code",
      "metadata": {
        "id": "gA6IW0ysvFit"
      },
      "source": [
        "y, X = dmatrices('Survived ~ Pclass+Age+SibSp+Parch+Fare', train, return_type = 'dataframe')\n",
        "\n",
        "vif = pd.DataFrame()\n",
        "vif[\"VIF Factor\"] = [variance_inflation_factor(X.values, i) for i in range(X.shape[1])]\n",
        "vif[\"features\"] = X.columns \n",
        "vif"
      ],
      "execution_count": null,
      "outputs": []
    },
    {
      "cell_type": "markdown",
      "metadata": {
        "id": "EVlvLGY4dMy_"
      },
      "source": [
        "#4.상관관계 분석"
      ]
    },
    {
      "cell_type": "code",
      "metadata": {
        "id": "Ar7r2o0gvHPd"
      },
      "source": [
        "import statsmodels.api as sm;\n",
        "import scipy.stats as stats\n",
        "from scipy import stats\n",
        "import seaborn as sns\n",
        "import matplotlib.pyplot as plt"
      ],
      "execution_count": null,
      "outputs": []
    },
    {
      "cell_type": "code",
      "metadata": {
        "id": "CopaJjNZP-vI"
      },
      "source": [
        "train_use_Survived = train\n",
        "dummy_two = pd.get_dummies(train_use_Survived)\n",
        "total_impute2 = pd.DataFrame(IterativeImputer(verbose=False).fit_transform(dummy_two))\n",
        "total_impute2"
      ],
      "execution_count": null,
      "outputs": []
    },
    {
      "cell_type": "code",
      "metadata": {
        "id": "0i3snNBzQfgF"
      },
      "source": [
        "total_cols2 = list(dummy_two.columns)\n",
        "total_impute2.columns = total_cols2\n",
        "total_impute2.head(20)"
      ],
      "execution_count": null,
      "outputs": []
    },
    {
      "cell_type": "code",
      "metadata": {
        "id": "OARDDqlALdrf"
      },
      "source": [
        "corrmat = total_impute2.corr()\n",
        "# plt.subplots(figsize=(12,9))\n",
        "# sns.heatmap(data = corrmat, annot=True, \n",
        "# fmt = '.2f', linewidths=.5, cmap='Blues')"
      ],
      "execution_count": null,
      "outputs": []
    },
    {
      "cell_type": "code",
      "metadata": {
        "id": "8lxkZnogxgiu"
      },
      "source": [
        "abs(corrmat['Survived']).sort_values()"
      ],
      "execution_count": null,
      "outputs": []
    },
    {
      "cell_type": "code",
      "metadata": {
        "id": "SDd1jzpTOa3C"
      },
      "source": [
        "pd.set_option('display.max_rows', 500)"
      ],
      "execution_count": null,
      "outputs": []
    },
    {
      "cell_type": "code",
      "metadata": {
        "id": "hqVX-b52PViO"
      },
      "source": [
        "X_train = total_impute2[corrmat[abs(corrmat['Survived']).sort_values() > 0.02].index]\n",
        "X_train = X_train.drop(['Survived'], axis=1)\n",
        "y_train = train['Survived']"
      ],
      "execution_count": null,
      "outputs": []
    },
    {
      "cell_type": "code",
      "metadata": {
        "id": "NqnaKWxGK7ka"
      },
      "source": [
        "# corr_with_d = lambda x: x.corrwith(train['Survived'])\n",
        "# grouped = train.groupby('Survived')\n",
        "# grouped.apply(corr_with_d) "
      ],
      "execution_count": null,
      "outputs": []
    },
    {
      "cell_type": "code",
      "metadata": {
        "id": "jFgmf9UjvVul"
      },
      "source": [
        "category_feature = [ col for col in train.columns if train[col].dtypes == \"object\"]\n",
        "train_cor = train[category_feature]\n",
        "train_cor"
      ],
      "execution_count": null,
      "outputs": []
    },
    {
      "cell_type": "markdown",
      "metadata": {
        "id": "1S-DeEmgdPw0"
      },
      "source": [
        "#5.머신러닝"
      ]
    },
    {
      "cell_type": "code",
      "metadata": {
        "id": "A-b-LS9dvWxM"
      },
      "source": [
        "from sklearn.ensemble import RandomForestRegressor\n",
        "from sklearn.metrics import accuracy_score,explained_variance_score, mean_squared_error, mean_absolute_error, r2_score\n",
        "from sklearn import metrics\n",
        "from sklearn.naive_bayes import GaussianNB\n",
        "from sklearn.svm import SVC \n",
        "from sklearn.ensemble import RandomForestClassifier\n",
        "from sklearn.tree import DecisionTreeClassifier\n",
        "from sklearn.neural_network import MLPClassifier\n",
        "from sklearn.neighbors import KNeighborsClassifier\n",
        "from sklearn.discriminant_analysis import LinearDiscriminantAnalysis\n"
      ],
      "execution_count": null,
      "outputs": []
    },
    {
      "cell_type": "code",
      "metadata": {
        "id": "RjFLVFvQyXrT"
      },
      "source": [
        "def rmse(predictions, targets):\n",
        "    return np.sqrt(((predictions - targets) ** 2).mean())"
      ],
      "execution_count": null,
      "outputs": []
    },
    {
      "cell_type": "code",
      "metadata": {
        "id": "XHMxcaf9xhWB"
      },
      "source": [
        "X_train, X_test, y_train, y_test = train_test_split(X_train, y_train, test_size=0.3, random_state=777)"
      ],
      "execution_count": null,
      "outputs": []
    },
    {
      "cell_type": "markdown",
      "metadata": {
        "id": "QN9wZnE0dStz"
      },
      "source": [
        "##1)GaussianNB"
      ]
    },
    {
      "cell_type": "code",
      "metadata": {
        "id": "Z4VhpD2qwNHM"
      },
      "source": [
        "def GaussianNB_fuction(X_train,y_train):\n",
        "    model = GaussianNB()\n",
        "    model.fit(X=X_train, y=y_train)\n",
        "    y_pred = model.predict(X_test) # 예측치\n",
        "    # y_true = y_test # 정답\n",
        "    # print('Root Mean Squared Error:',rmse(y_pred,y_test))\n",
        "    print('GaussianNB rmse:',rmse(y_pred,y_test))\n",
        "    print('정확도 : {0:.4f}'.format(accuracy_score(y_test, y_pred)))"
      ],
      "execution_count": null,
      "outputs": []
    },
    {
      "cell_type": "markdown",
      "metadata": {
        "id": "xTPDmQ-YdVNe"
      },
      "source": [
        "##2)SVC"
      ]
    },
    {
      "cell_type": "code",
      "metadata": {
        "id": "gLtNF0y6wn0x"
      },
      "source": [
        "def SVC_fuction(X_train,y_train):\n",
        "    model = SVC()  # kernel = 'rbf'  : default\n",
        "    model.fit(X=X_train, y=y_train)\n",
        "    y_pred = model.predict(X_test) # 예측치\n",
        "    # y_true = y_test # 정답\n",
        "    # print('Root Mean Squared Error:',rmse(y_pred,y_test))\n",
        "    print('SVC rmse:',rmse(y_pred,y_test))\n",
        "    print('정확도 : {0:.4f}'.format(accuracy_score(y_test, y_pred)))"
      ],
      "execution_count": null,
      "outputs": []
    },
    {
      "cell_type": "markdown",
      "metadata": {
        "id": "rcOeRMJ6dW10"
      },
      "source": [
        "##3)RandomForestClassifier"
      ]
    },
    {
      "cell_type": "code",
      "metadata": {
        "id": "lmpx1eP1y8Mm"
      },
      "source": [
        "def RandomForestClassifier_fuction(X_train,y_train):\n",
        "    model = RandomForestClassifier().fit(X=X_train, y=y_train)\n",
        "    model.predict(X_test)\n",
        "    y_pred = model.predict(X_test) # 예측치\n",
        "    # print('Root Mean Squared Error:',rmse(y_pred,y_test))\n",
        "    print('RandomForestClassifier rmse:',rmse(y_pred,y_test))\n",
        "    print('정확도 : {0:.4f}'.format(accuracy_score(y_test, y_pred))) "
      ],
      "execution_count": null,
      "outputs": []
    },
    {
      "cell_type": "markdown",
      "metadata": {
        "id": "9tbIxSRadYs-"
      },
      "source": [
        "##4)MLPClassifier"
      ]
    },
    {
      "cell_type": "code",
      "metadata": {
        "id": "SxqA6yVyzcfh"
      },
      "source": [
        "def MLPClassifier_fuction(X_train,y_train):\n",
        "    model = MLPClassifier().fit(X=X_train, y=y_train)\n",
        "    model.predict(X_test)\n",
        "    y_pred = model.predict(X_test) # 예측치\n",
        "    # print('Root Mean Squared Error:',rmse(y_pred,y_test))\n",
        "    print('MLPClassifier rmse:',rmse(y_pred,y_test))\n",
        "    print('정확도 : {0:.4f}'.format(accuracy_score(y_test, y_pred)))"
      ],
      "execution_count": null,
      "outputs": []
    },
    {
      "cell_type": "markdown",
      "metadata": {
        "id": "AyRy2mQddaWi"
      },
      "source": [
        "##5)DecisionTreeClassifier"
      ]
    },
    {
      "cell_type": "code",
      "metadata": {
        "id": "gDCZqLMtz1ct"
      },
      "source": [
        "def DecisionTreeClassifier_fuction(X_train,y_train):\n",
        "    model = DecisionTreeClassifier().fit(X_train, y_train)\n",
        "    model.predict(X_test)\n",
        "    y_pred = model.predict(X_test) # 예측치\n",
        "    # print('Root Mean Squared Error:',rmse(y_pred,y_test))\n",
        "    print('DecisionTreeClassifier rmse:',rmse(y_pred,y_test))\n",
        "    print('정확도 : {0:.4f}'.format(accuracy_score(y_test, y_pred)))"
      ],
      "execution_count": null,
      "outputs": []
    },
    {
      "cell_type": "markdown",
      "metadata": {
        "id": "YHGX6zQpdb0T"
      },
      "source": [
        "##6)KNeighborsClassifier"
      ]
    },
    {
      "cell_type": "code",
      "metadata": {
        "id": "DotXGitv0ER0"
      },
      "source": [
        "def KNeighborsClassifier_fuction(X_train,y_train):\n",
        "    model = KNeighborsClassifier()\n",
        "    model.fit(X_train, y_train)\n",
        "    model.predict(X_test)\n",
        "    y_pred = model.predict(X_test) # 예측치\n",
        "    # print('Root Mean Squared Error:',rmse(y_pred,y_test))\n",
        "    print('KNeighborsClassifier rmse:',rmse(y_pred,y_test))\n",
        "    print('정확도 : {0:.4f}'.format(accuracy_score(y_test, y_pred)))"
      ],
      "execution_count": null,
      "outputs": []
    },
    {
      "cell_type": "markdown",
      "metadata": {
        "id": "tbkA9msUddQ5"
      },
      "source": [
        "##7)LinearDiscriminantAnalysis"
      ]
    },
    {
      "cell_type": "code",
      "metadata": {
        "id": "juXMNvov0KMp"
      },
      "source": [
        "def LinearDiscriminantAnalysis_fuction(X_train,y_train):\n",
        "    model = LinearDiscriminantAnalysis()\n",
        "    model.fit(X_train, y_train)\n",
        "    model.predict(X_test)\n",
        "    y_pred = model.predict(X_test) # 예측치\n",
        "    # print('Root Mean Squared Error:',rmse(y_pred,y_test))\n",
        "    print('LinearDiscriminantAnalysis rmse:',rmse(y_pred,y_test))\n",
        "    print('정확도 : {0:.4f}'.format(accuracy_score(y_test, y_pred)))"
      ],
      "execution_count": null,
      "outputs": []
    },
    {
      "cell_type": "markdown",
      "metadata": {
        "id": "2Y4dpFZR-JW8"
      },
      "source": [
        "##8)LogisticRegression"
      ]
    },
    {
      "cell_type": "code",
      "metadata": {
        "id": "uwYQuXjs-FUe"
      },
      "source": [
        "def LogisticRegression_fuction(X_train,y_train):\n",
        "    from sklearn.linear_model import LogisticRegression\n",
        "    model = LogisticRegression()\n",
        "    model.fit(X_train, y_train)\n",
        "    y_pred = model.predict(X_test)\n",
        "\n",
        "    print('정확도 : {0:.4f}'.format(accuracy_score(y_test, y_pred)))\n",
        "    print('Root Mean Squared Error:',rmse(y_pred,y_test))"
      ],
      "execution_count": null,
      "outputs": []
    },
    {
      "cell_type": "markdown",
      "metadata": {
        "id": "_FhD_ciNh668"
      },
      "source": [
        "##9)실행문"
      ]
    },
    {
      "cell_type": "code",
      "metadata": {
        "id": "sn5fkKrW0O7t"
      },
      "source": [
        "GaussianNB_fuction(X_train,y_train)\n",
        "SVC_fuction(X_train,y_train)\n",
        "RandomForestClassifier_fuction(X_train,y_train)\n",
        "MLPClassifier_fuction(X_train,y_train)\n",
        "DecisionTreeClassifier_fuction(X_train,y_train)\n",
        "KNeighborsClassifier_fuction(X_train,y_train)\n",
        "LinearDiscriminantAnalysis_fuction(X_train,y_train)\n",
        "LogisticRegression_fuction(X_train,y_train)"
      ],
      "execution_count": null,
      "outputs": []
    },
    {
      "cell_type": "code",
      "metadata": {
        "id": "FC2o8NOyUGSh"
      },
      "source": [
        "GaussianNB_fuction(X_train,y_train)\n",
        "SVC_fuction(X_train,y_train)\n",
        "RandomForestClassifier_fuction(X_train,y_train)\n",
        "MLPClassifier_fuction(X_train,y_train)\n",
        "DecisionTreeClassifier_fuction(X_train,y_train)\n",
        "KNeighborsClassifier_fuction(X_train,y_train)\n",
        "LinearDiscriminantAnalysis_fuction(X_train,y_train)"
      ],
      "execution_count": null,
      "outputs": []
    },
    {
      "cell_type": "markdown",
      "metadata": {
        "id": "dmkwaaT8jmdB"
      },
      "source": [
        "#6.앙상블기법"
      ]
    },
    {
      "cell_type": "code",
      "metadata": {
        "id": "ugSTU4W_hsBr"
      },
      "source": [
        "from sklearn.ensemble import VotingClassifier, VotingRegressor\n",
        "from sklearn.model_selection import KFold\n",
        "from sklearn.model_selection import cross_validate\n",
        "\n",
        "# ensemble 할 model 정의\n",
        "models = [\n",
        "    # ('enc', ElasticNetCV()),\n",
        "    # ('gnb',GaussianNB()),\n",
        "    # ('svc',SVC()),\n",
        "    ('rf',RandomForestClassifier()),\n",
        "    ('mlpc',MLPClassifier()),\n",
        "    ('dtc',DecisionTreeClassifier()),\n",
        "    ('kc',KNeighborsClassifier()),\n",
        "    # ('lda',LinearDiscriminantAnalysis()),\n",
        "    ('lr',LogisticRegression())\n",
        "\n",
        "]\n",
        "voting_classifier = VotingClassifier(models, n_jobs=-1) #n_jobs 코어수\n",
        "voting_classifier.fit(X_train, y_train)\n",
        "voting_pred = voting_classifier.predict(X_test)\n",
        "print('Root Mean Squared Error:',rmse(voting_pred,y_test))\n",
        "print('정확도 : {0:.4f}'.format(accuracy_score(y_test, voting_pred)))"
      ],
      "execution_count": null,
      "outputs": []
    },
    {
      "cell_type": "code",
      "metadata": {
        "id": "NMQybSLZkPyY"
      },
      "source": [
        "from sklearn.ensemble import StackingClassifier\n",
        "models = [\n",
        "    # ('enc', ElasticNetCV()),\n",
        "    # ('gnb',GaussianNB()),\n",
        "    # ('svc',SVC()),\n",
        "    ('rf',RandomForestClassifier()),\n",
        "    ('mlpc',MLPClassifier()),\n",
        "    ('dtc',DecisionTreeClassifier()),\n",
        "    ('kc',KNeighborsClassifier()),\n",
        "    ('lda',LinearDiscriminantAnalysis()),\n",
        "    # ('lr',LogisticRegression())\n",
        "\n",
        "]\n",
        "rf = RandomForestClassifier()\n",
        "mlpc = MLPClassifier()\n",
        "dtc = DecisionTreeClassifier()\n",
        "kc = KNeighborsClassifier()\n",
        "lda = LinearDiscriminantAnalysis()\n",
        "lr = LogisticRegression()\n",
        "stack_clf = StackingClassifier(models, final_estimator=mlpc, n_jobs=-1)\n",
        "stack_clf.fit(X_train, y_train)\n",
        "stack_pred = stack_clf.predict(X_test)\n",
        "print('Root Mean Squared Error:',rmse(stack_pred,y_test))\n",
        "print('정확도 : {0:.4f}'.format(accuracy_score(y_test, stack_pred)))"
      ],
      "execution_count": null,
      "outputs": []
    },
    {
      "cell_type": "code",
      "metadata": {
        "id": "qaeTJMhAmECW"
      },
      "source": [
        "from sklearn.ensemble import BaggingClassifier\n",
        "from sklearn.datasets import make_regression\n",
        "regr = BaggingClassifier(base_estimator=LinearDiscriminantAnalysis(),\n",
        "                        n_estimators=10, random_state=0).fit(X_train, y_train)\n",
        "bagging_pred = regr.predict(X_test)\n",
        "print('Root Mean Squared Error:',rmse(bagging_pred,y_test))\n",
        "print('정확도 : {0:.4f}'.format(accuracy_score(y_test, bagging_pred)))"
      ],
      "execution_count": null,
      "outputs": []
    },
    {
      "cell_type": "code",
      "metadata": {
        "id": "e0qrC33Gma6d"
      },
      "source": [
        ""
      ],
      "execution_count": null,
      "outputs": []
    }
  ]
}