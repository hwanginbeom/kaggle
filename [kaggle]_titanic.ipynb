{
  "nbformat": 4,
  "nbformat_minor": 0,
  "metadata": {
    "colab": {
      "name": "[kaggle] titanic.ipynb",
      "provenance": [],
      "private_outputs": true,
      "collapsed_sections": [],
      "toc_visible": true
    },
    "kernelspec": {
      "name": "python3",
      "display_name": "Python 3"
    }
  },
  "cells": [
    {
      "cell_type": "code",
      "metadata": {
        "id": "pUqiT6GrecLV"
      },
      "source": [
        "pip install impyute"
      ],
      "execution_count": null,
      "outputs": []
    },
    {
      "cell_type": "code",
      "metadata": {
        "id": "PtNerNfWPkyy"
      },
      "source": [
        "import pandas as pd\n",
        "import numpy as np\n",
        "from sklearn.experimental import enable_iterative_imputer\n",
        "from sklearn.impute import IterativeImputer\n",
        "from sklearn.linear_model import LinearRegression\n",
        "from sklearn.model_selection import train_test_split\n",
        "import matplotlib.pyplot as plt\n",
        "import matplotlib as mpl\n",
        "from sklearn.experimental import enable_iterative_imputer\n",
        "from sklearn.impute import IterativeImputer\n",
        "from sklearn.linear_model import LinearRegression\n",
        "from impyute.imputation.cs import mice\n",
        "from sklearn.model_selection import train_test_split"
      ],
      "execution_count": null,
      "outputs": []
    },
    {
      "cell_type": "code",
      "metadata": {
        "id": "D40DI-roPv3B"
      },
      "source": [
        "test = pd.read_csv('/content/drive/My Drive/data/kaggle/titanic/test.csv', encoding = 'cp949')\n",
        "train = pd.read_csv('/content/drive/My Drive/data/kaggle/titanic/train.csv', encoding = 'cp949')\n"
      ],
      "execution_count": null,
      "outputs": []
    },
    {
      "cell_type": "markdown",
      "metadata": {
        "id": "2Ux6hBjFQGNk"
      },
      "source": [
        "# 1.컬럼 확인"
      ]
    },
    {
      "cell_type": "code",
      "metadata": {
        "id": "Zb9Y-JY1P9Tb"
      },
      "source": [
        "train.info()"
      ],
      "execution_count": null,
      "outputs": []
    },
    {
      "cell_type": "code",
      "metadata": {
        "id": "HqcHw1wgQDD4"
      },
      "source": [
        "train.isnull().sum()"
      ],
      "execution_count": null,
      "outputs": []
    },
    {
      "cell_type": "code",
      "metadata": {
        "id": "18zoI-DrQFF0"
      },
      "source": [
        "train.tail(5)"
      ],
      "execution_count": null,
      "outputs": []
    },
    {
      "cell_type": "code",
      "metadata": {
        "id": "MmGQmAplS3Bv"
      },
      "source": [
        "test.isnull().sum()"
      ],
      "execution_count": null,
      "outputs": []
    },
    {
      "cell_type": "markdown",
      "metadata": {
        "id": "rOr8MBa2eoZz"
      },
      "source": [
        "#2.전처리"
      ]
    },
    {
      "cell_type": "markdown",
      "metadata": {
        "id": "FIMnNGnrT8p2"
      },
      "source": [
        "## 필요없는 컬럼 삭제"
      ]
    },
    {
      "cell_type": "code",
      "metadata": {
        "id": "pocPqF-1T7qR"
      },
      "source": [
        "train.drop(\"PassengerId\", axis = 1, inplace = True)\n",
        "test.drop(\"PassengerId\", axis = 1, inplace = True)\n",
        "train.drop(\"Name\", axis = 1, inplace = True)\n",
        "test.drop(\"Name\", axis = 1, inplace = True)\n",
        "train.drop(\"Ticket\", axis = 1, inplace = True)\n",
        "test.drop(\"Ticket\", axis = 1, inplace = True)"
      ],
      "execution_count": null,
      "outputs": []
    },
    {
      "cell_type": "code",
      "metadata": {
        "id": "w4W2_WrEUXtg"
      },
      "source": [
        "train.info()"
      ],
      "execution_count": null,
      "outputs": []
    },
    {
      "cell_type": "markdown",
      "metadata": {
        "id": "3qhLuyhZUSvX"
      },
      "source": [
        "## 편향성 확인"
      ]
    },
    {
      "cell_type": "code",
      "metadata": {
        "id": "KBJbTup7TU8k"
      },
      "source": [
        "fig, ax = plt.subplots()\n",
        "ax.scatter(x = train['Age'], y = train['Survived'])\n",
        "plt.ylabel('Survived', fontsize=13)\n",
        "plt.xlabel('Age', fontsize=13)\n",
        "plt.show()"
      ],
      "execution_count": null,
      "outputs": []
    },
    {
      "cell_type": "code",
      "metadata": {
        "id": "T-CdLFtuUfQY"
      },
      "source": [
        "train[['Pclass']].boxplot()"
      ],
      "execution_count": null,
      "outputs": []
    },
    {
      "cell_type": "code",
      "metadata": {
        "id": "a5AXCQmdYMFN"
      },
      "source": [
        "train[['Age']].boxplot()"
      ],
      "execution_count": null,
      "outputs": []
    },
    {
      "cell_type": "code",
      "metadata": {
        "id": "CCOeR5WLYST0"
      },
      "source": [
        "#Correlation map to see how features are correlated with SalePrice\n",
        "import seaborn as sns\n",
        "\n",
        "corrmat = train.corr()\n",
        "plt.subplots(figsize=(12,9))\n",
        "sns.heatmap(data = corrmat, annot=True, \n",
        "fmt = '.2f', linewidths=.5, cmap='Blues')"
      ],
      "execution_count": null,
      "outputs": []
    },
    {
      "cell_type": "markdown",
      "metadata": {
        "id": "XmBgUCw1ckmT"
      },
      "source": [
        "## 결측치 처리"
      ]
    },
    {
      "cell_type": "code",
      "metadata": {
        "id": "d_CFg4arc0yY"
      },
      "source": [
        "train.isnull().sum()"
      ],
      "execution_count": null,
      "outputs": []
    },
    {
      "cell_type": "code",
      "metadata": {
        "id": "E4Do59yeiSNf"
      },
      "source": [
        "test.isnull().sum()"
      ],
      "execution_count": null,
      "outputs": []
    },
    {
      "cell_type": "code",
      "metadata": {
        "id": "HIRCqyRScj0y"
      },
      "source": [
        "# train[\"Embarked\"] = train[\"Embarked\"].fillna(\"None\")"
      ],
      "execution_count": null,
      "outputs": []
    },
    {
      "cell_type": "code",
      "metadata": {
        "id": "x3nUjNDps4R4"
      },
      "source": [
        "# del train['Ticket']\n",
        "# del test['Ticket']"
      ],
      "execution_count": null,
      "outputs": []
    },
    {
      "cell_type": "code",
      "metadata": {
        "id": "qe-PNXjUrzsA"
      },
      "source": [
        "train.head()"
      ],
      "execution_count": null,
      "outputs": []
    },
    {
      "cell_type": "code",
      "metadata": {
        "id": "lACV70lJibMU"
      },
      "source": [
        "# test[\"Fare\"] = test[\"Fare\"].fillna(\"None\")"
      ],
      "execution_count": null,
      "outputs": []
    },
    {
      "cell_type": "markdown",
      "metadata": {
        "id": "PooIhktlirgM"
      },
      "source": [
        "## 라벨인코더"
      ]
    },
    {
      "cell_type": "code",
      "metadata": {
        "id": "FHQGDTojairQ"
      },
      "source": [
        "from sklearn.preprocessing import LabelEncoder\n",
        "le = LabelEncoder()\n",
        "train_result = le.fit_transform(train['Embarked'])\n",
        "test_result = le.fit_transform(test['Embarked'])\n",
        "\n",
        "# print(result)\n",
        "train['Embarked'] = train_result\n",
        "test['Embarked'] = test_result"
      ],
      "execution_count": null,
      "outputs": []
    },
    {
      "cell_type": "markdown",
      "metadata": {
        "id": "UJ9gRV2riwY4"
      },
      "source": [
        "## 다중대체법"
      ]
    },
    {
      "cell_type": "code",
      "metadata": {
        "id": "K5sJcC9tWtlo"
      },
      "source": [
        "train_no_Survived = train.drop(['Survived'], axis=1)\n"
      ],
      "execution_count": null,
      "outputs": []
    },
    {
      "cell_type": "code",
      "metadata": {
        "id": "bqoKNoLQe7zB"
      },
      "source": [
        "total = pd.concat([train_no_Survived,test],axis=0,ignore_index=True)\n"
      ],
      "execution_count": null,
      "outputs": []
    },
    {
      "cell_type": "code",
      "metadata": {
        "id": "ZqeaJV_Ke_o3"
      },
      "source": [
        "import missingno as msno\n",
        "msno.matrix(total)\n"
      ],
      "execution_count": null,
      "outputs": []
    },
    {
      "cell_type": "code",
      "metadata": {
        "id": "z0GlUUsifCZK"
      },
      "source": [
        "dummy = pd.get_dummies(total)"
      ],
      "execution_count": null,
      "outputs": []
    },
    {
      "cell_type": "code",
      "metadata": {
        "id": "2D8iKETKqRQu"
      },
      "source": [
        "dummy.shape"
      ],
      "execution_count": null,
      "outputs": []
    },
    {
      "cell_type": "code",
      "metadata": {
        "id": "xBbM_2wOi0oh"
      },
      "source": [
        "total_impute = pd.DataFrame(IterativeImputer(verbose=False).fit_transform(dummy))\n",
        "total_impute"
      ],
      "execution_count": null,
      "outputs": []
    },
    {
      "cell_type": "code",
      "metadata": {
        "id": "uEQz-Rd1i2Qd"
      },
      "source": [
        "msno.matrix(total_impute)\n"
      ],
      "execution_count": null,
      "outputs": []
    },
    {
      "cell_type": "code",
      "metadata": {
        "id": "ejAoN-b-kiUR"
      },
      "source": [
        "total_cols = list(dummy.columns)\n",
        "total_impute.columns = total_cols"
      ],
      "execution_count": null,
      "outputs": []
    },
    {
      "cell_type": "code",
      "metadata": {
        "id": "5KIEeFQjkpKh"
      },
      "source": [
        "X_train = total_impute[:891]\n",
        "X_test = total_impute[891:]"
      ],
      "execution_count": null,
      "outputs": []
    },
    {
      "cell_type": "code",
      "metadata": {
        "id": "LCxA1AUDksey"
      },
      "source": [
        "y_train = train['Survived']"
      ],
      "execution_count": null,
      "outputs": []
    },
    {
      "cell_type": "code",
      "metadata": {
        "id": "XHMxcaf9xhWB"
      },
      "source": [
        "X_train, X_test, y_train, y_test = train_test_split(X_train, y_train, test_size=0.3, random_state=777)\n"
      ],
      "execution_count": null,
      "outputs": []
    },
    {
      "cell_type": "code",
      "metadata": {
        "id": "wdVZwiBnuxSc"
      },
      "source": [
        "from patsy import dmatrices\n",
        "from statsmodels.stats.outliers_influence import variance_inflation_factor\n"
      ],
      "execution_count": null,
      "outputs": []
    },
    {
      "cell_type": "code",
      "metadata": {
        "id": "dou5NHfPvCHv"
      },
      "source": [
        "pd.options.display.float_format = '{:.5f}'.format\n"
      ],
      "execution_count": null,
      "outputs": []
    },
    {
      "cell_type": "code",
      "metadata": {
        "id": "UKUtFXfrvDy0"
      },
      "source": [
        "Numeric_feature = [ col for col in train.columns if train[col].dtypes != \"object\"]\n",
        "Numeric_feature"
      ],
      "execution_count": null,
      "outputs": []
    },
    {
      "cell_type": "code",
      "metadata": {
        "id": "gA6IW0ysvFit"
      },
      "source": [
        "y, X = dmatrices('Survived ~ Pclass+Age+SibSp+Parch+Fare', train, return_type = 'dataframe')\n",
        "\n",
        "vif = pd.DataFrame()\n",
        "vif[\"VIF Factor\"] = [variance_inflation_factor(X.values, i) for i in range(X.shape[1])]\n",
        "vif[\"features\"] = X.columns \n",
        "vif"
      ],
      "execution_count": null,
      "outputs": []
    },
    {
      "cell_type": "code",
      "metadata": {
        "id": "Ar7r2o0gvHPd"
      },
      "source": [
        "import statsmodels.api as sm;\n",
        "import scipy.stats as stats\n",
        "from scipy import stats\n",
        "import seaborn as sns\n",
        "import matplotlib.pyplot as plt"
      ],
      "execution_count": null,
      "outputs": []
    },
    {
      "cell_type": "code",
      "metadata": {
        "id": "jFgmf9UjvVul"
      },
      "source": [
        "category_feature = [ col for col in train.columns if train[col].dtypes == \"object\"]\n",
        "train_cor = train[category_feature]\n",
        "train_cor"
      ],
      "execution_count": null,
      "outputs": []
    },
    {
      "cell_type": "code",
      "metadata": {
        "id": "RjFLVFvQyXrT"
      },
      "source": [
        "def rmse(predictions, targets):\n",
        "    return np.sqrt(((predictions - targets) ** 2).mean())"
      ],
      "execution_count": null,
      "outputs": []
    },
    {
      "cell_type": "code",
      "metadata": {
        "id": "A-b-LS9dvWxM"
      },
      "source": [
        "from sklearn.ensemble import RandomForestRegressor\n",
        "from sklearn.metrics import accuracy_score,explained_variance_score, mean_squared_error, mean_absolute_error, r2_score\n",
        "from sklearn import metrics"
      ],
      "execution_count": null,
      "outputs": []
    },
    {
      "cell_type": "code",
      "metadata": {
        "id": "Z4VhpD2qwNHM"
      },
      "source": [
        "from sklearn.naive_bayes import GaussianNB\n",
        "model = GaussianNB()\n",
        "model.fit(X=X_train, y=y_train)\n",
        "y_pred = model.predict(X_test) # 예측치\n",
        "y_true = y_test # 정답\n",
        "print('Root Mean Squared Error:',rmse(y_pred,y_test))"
      ],
      "execution_count": null,
      "outputs": []
    },
    {
      "cell_type": "code",
      "metadata": {
        "id": "gLtNF0y6wn0x"
      },
      "source": [
        "from sklearn.svm import SVC \n",
        "model = SVC()  # kernel = 'rbf'  : default\n",
        "model.fit(X=X_train, y=y_train)\n",
        "y_pred = model.predict(X_test) # 예측치\n",
        "y_true = y_test # 정답\n",
        "print('Root Mean Squared Error:',rmse(y_pred,y_test))"
      ],
      "execution_count": null,
      "outputs": []
    },
    {
      "cell_type": "code",
      "metadata": {
        "id": "lmpx1eP1y8Mm"
      },
      "source": [
        "from sklearn.ensemble import RandomForestClassifier\n",
        "model = RandomForestClassifier().fit(X=X_train, y=y_train)\n",
        "model.predict(X_test)\n",
        "y_pred = model.predict(X_test) # 예측치\n",
        "print('Root Mean Squared Error:',rmse(y_pred,y_test))\n"
      ],
      "execution_count": null,
      "outputs": []
    },
    {
      "cell_type": "code",
      "metadata": {
        "id": "SxqA6yVyzcfh"
      },
      "source": [
        "from sklearn.neural_network import MLPClassifier\n",
        "model = MLPClassifier().fit(X=X_train, y=y_train)\n",
        "model.predict(X_test)\n",
        "y_pred = model.predict(X_test) # 예측치\n",
        "print('Root Mean Squared Error:',rmse(y_pred,y_test))"
      ],
      "execution_count": null,
      "outputs": []
    },
    {
      "cell_type": "code",
      "metadata": {
        "id": "gDCZqLMtz1ct"
      },
      "source": [
        "from sklearn.tree import DecisionTreeClassifier\n",
        "model = DecisionTreeClassifier().fit(X_train, y_train)\n",
        "model.predict(X_test)\n",
        "y_pred = model.predict(X_test) # 예측치\n",
        "print('Root Mean Squared Error:',rmse(y_pred,y_test))"
      ],
      "execution_count": null,
      "outputs": []
    },
    {
      "cell_type": "code",
      "metadata": {
        "id": "DotXGitv0ER0"
      },
      "source": [
        "from sklearn.neighbors import KNeighborsClassifier\n",
        "model = KNeighborsClassifier()\n",
        "model.fit(X_train, y_train)\n",
        "model.predict(X_test)\n",
        "y_pred = model.predict(X_test) # 예측치\n",
        "print('Root Mean Squared Error:',rmse(y_pred,y_test))"
      ],
      "execution_count": null,
      "outputs": []
    },
    {
      "cell_type": "code",
      "metadata": {
        "id": "juXMNvov0KMp"
      },
      "source": [
        "from sklearn.discriminant_analysis import LinearDiscriminantAnalysis\n",
        "model = LinearDiscriminantAnalysis()\n",
        "model.fit(X_train, y_train)\n",
        "model.predict(X_test)\n",
        "y_pred = model.predict(X_test) # 예측치\n",
        "print('Root Mean Squared Error:',rmse(y_pred,y_test))"
      ],
      "execution_count": null,
      "outputs": []
    },
    {
      "cell_type": "code",
      "metadata": {
        "id": "sn5fkKrW0O7t"
      },
      "source": [
        ""
      ],
      "execution_count": null,
      "outputs": []
    }
  ]
}