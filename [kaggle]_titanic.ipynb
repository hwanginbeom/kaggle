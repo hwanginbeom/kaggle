{
  "nbformat": 4,
  "nbformat_minor": 0,
  "metadata": {
    "colab": {
      "name": "[kaggle] titanic.ipynb",
      "provenance": [],
      "private_outputs": true,
      "collapsed_sections": []
    },
    "kernelspec": {
      "name": "python3",
      "display_name": "Python 3"
    }
  },
  "cells": [
    {
      "cell_type": "code",
      "metadata": {
        "id": "PtNerNfWPkyy"
      },
      "source": [
        "import pandas as pd\n",
        "import numpy as np\n",
        "from sklearn.experimental import enable_iterative_imputer\n",
        "from sklearn.impute import IterativeImputer\n",
        "from sklearn.linear_model import LinearRegression\n",
        "from sklearn.model_selection import train_test_split\n",
        "import matplotlib.pyplot as plt\n",
        "import matplotlib as mpl"
      ],
      "execution_count": null,
      "outputs": []
    },
    {
      "cell_type": "code",
      "metadata": {
        "id": "D40DI-roPv3B"
      },
      "source": [
        "test = pd.read_csv('/content/drive/My Drive/data/kaggle/titanic/test.csv', encoding = 'cp949')\n",
        "train = pd.read_csv('/content/drive/My Drive/data/kaggle/titanic/train.csv', encoding = 'cp949')\n"
      ],
      "execution_count": null,
      "outputs": []
    },
    {
      "cell_type": "markdown",
      "metadata": {
        "id": "2Ux6hBjFQGNk"
      },
      "source": [
        "# 1.컬럼 확인"
      ]
    },
    {
      "cell_type": "code",
      "metadata": {
        "id": "Zb9Y-JY1P9Tb"
      },
      "source": [
        "train.info()"
      ],
      "execution_count": null,
      "outputs": []
    },
    {
      "cell_type": "code",
      "metadata": {
        "id": "HqcHw1wgQDD4"
      },
      "source": [
        "train.isnull().sum()"
      ],
      "execution_count": null,
      "outputs": []
    },
    {
      "cell_type": "code",
      "metadata": {
        "id": "18zoI-DrQFF0"
      },
      "source": [
        "train.tail(5)"
      ],
      "execution_count": null,
      "outputs": []
    },
    {
      "cell_type": "code",
      "metadata": {
        "id": "MmGQmAplS3Bv"
      },
      "source": [
        "test.isnull().sum()"
      ],
      "execution_count": null,
      "outputs": []
    },
    {
      "cell_type": "markdown",
      "metadata": {
        "id": "FIMnNGnrT8p2"
      },
      "source": [
        "## 필요없는 컬럼 삭제"
      ]
    },
    {
      "cell_type": "code",
      "metadata": {
        "id": "pocPqF-1T7qR"
      },
      "source": [
        "train.drop(\"PassengerId\", axis = 1, inplace = True)\n",
        "test.drop(\"PassengerId\", axis = 1, inplace = True)\n",
        "train.drop(\"Name\", axis = 1, inplace = True)\n",
        "test.drop(\"Name\", axis = 1, inplace = True)"
      ],
      "execution_count": null,
      "outputs": []
    },
    {
      "cell_type": "code",
      "metadata": {
        "id": "w4W2_WrEUXtg"
      },
      "source": [
        "train.info()"
      ],
      "execution_count": null,
      "outputs": []
    },
    {
      "cell_type": "markdown",
      "metadata": {
        "id": "3qhLuyhZUSvX"
      },
      "source": [
        "## 편향성 확인"
      ]
    },
    {
      "cell_type": "code",
      "metadata": {
        "id": "KBJbTup7TU8k"
      },
      "source": [
        "fig, ax = plt.subplots()\n",
        "ax.scatter(x = train['Age'], y = train['Survived'])\n",
        "plt.ylabel('Survived', fontsize=13)\n",
        "plt.xlabel('Age', fontsize=13)\n",
        "plt.show()"
      ],
      "execution_count": null,
      "outputs": []
    },
    {
      "cell_type": "code",
      "metadata": {
        "id": "T-CdLFtuUfQY"
      },
      "source": [
        "train[['Pclass']].boxplot()"
      ],
      "execution_count": null,
      "outputs": []
    },
    {
      "cell_type": "code",
      "metadata": {
        "id": "a5AXCQmdYMFN"
      },
      "source": [
        "train[['Age']].boxplot()"
      ],
      "execution_count": null,
      "outputs": []
    },
    {
      "cell_type": "code",
      "metadata": {
        "id": "CCOeR5WLYST0"
      },
      "source": [
        "#Correlation map to see how features are correlated with SalePrice\n",
        "import seaborn as sns\n",
        "\n",
        "corrmat = train.corr()\n",
        "plt.subplots(figsize=(12,9))\n",
        "sns.heatmap(data = corrmat, annot=True, \n",
        "fmt = '.2f', linewidths=.5, cmap='Blues')"
      ],
      "execution_count": null,
      "outputs": []
    },
    {
      "cell_type": "markdown",
      "metadata": {
        "id": "XmBgUCw1ckmT"
      },
      "source": [
        "# 결측치 처리"
      ]
    },
    {
      "cell_type": "code",
      "metadata": {
        "id": "d_CFg4arc0yY"
      },
      "source": [
        "train.isnull().sum()"
      ],
      "execution_count": null,
      "outputs": []
    },
    {
      "cell_type": "code",
      "metadata": {
        "id": "HIRCqyRScj0y"
      },
      "source": [
        "train[\"Embarked\"] = train[\"Embarked\"].fillna(\"None\")"
      ],
      "execution_count": null,
      "outputs": []
    },
    {
      "cell_type": "code",
      "metadata": {
        "id": "FHQGDTojairQ"
      },
      "source": [
        "train['Cabin'].unique()"
      ],
      "execution_count": null,
      "outputs": []
    },
    {
      "cell_type": "code",
      "metadata": {
        "id": "bbF1Q9qdUNhR"
      },
      "source": [
        ""
      ],
      "execution_count": null,
      "outputs": []
    }
  ]
}