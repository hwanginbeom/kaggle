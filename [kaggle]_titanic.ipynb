{
  "nbformat": 4,
  "nbformat_minor": 0,
  "metadata": {
    "colab": {
      "name": "[kaggle] titanic.ipynb",
      "provenance": [],
      "private_outputs": true,
      "collapsed_sections": [],
      "toc_visible": true
    },
    "kernelspec": {
      "name": "python3",
      "display_name": "Python 3"
    }
  },
  "cells": [
    {
      "cell_type": "code",
      "metadata": {
        "id": "pUqiT6GrecLV"
      },
      "source": [
        "pip install impyute"
      ],
      "execution_count": null,
      "outputs": []
    },
    {
      "cell_type": "code",
      "metadata": {
        "id": "PtNerNfWPkyy"
      },
      "source": [
        "import pandas as pd\n",
        "import numpy as np\n",
        "from sklearn.experimental import enable_iterative_imputer\n",
        "from sklearn.impute import IterativeImputer\n",
        "from sklearn.linear_model import LinearRegression\n",
        "from sklearn.model_selection import train_test_split\n",
        "import matplotlib.pyplot as plt\n",
        "import matplotlib as mpl\n",
        "from sklearn.experimental import enable_iterative_imputer\n",
        "from sklearn.impute import IterativeImputer\n",
        "from sklearn.linear_model import LinearRegression\n",
        "from impyute.imputation.cs import mice\n",
        "from sklearn.model_selection import train_test_split\n",
        "from sklearn.model_selection import cross_val_score, cross_validate\n"
      ],
      "execution_count": null,
      "outputs": []
    },
    {
      "cell_type": "code",
      "metadata": {
        "id": "D40DI-roPv3B"
      },
      "source": [
        "test = pd.read_csv('/content/drive/My Drive/data/kaggle/titanic/test.csv', encoding = 'cp949')\n",
        "train = pd.read_csv('/content/drive/My Drive/data/kaggle/titanic/train.csv', encoding = 'cp949')\n"
      ],
      "execution_count": null,
      "outputs": []
    },
    {
      "cell_type": "markdown",
      "metadata": {
        "id": "2Ux6hBjFQGNk"
      },
      "source": [
        "# 1.컬럼 확인"
      ]
    },
    {
      "cell_type": "code",
      "metadata": {
        "id": "Zb9Y-JY1P9Tb"
      },
      "source": [
        "train.info()"
      ],
      "execution_count": null,
      "outputs": []
    },
    {
      "cell_type": "code",
      "metadata": {
        "id": "HqcHw1wgQDD4"
      },
      "source": [
        "train.isnull().sum()"
      ],
      "execution_count": null,
      "outputs": []
    },
    {
      "cell_type": "code",
      "metadata": {
        "id": "18zoI-DrQFF0"
      },
      "source": [
        "train.tail(5)"
      ],
      "execution_count": null,
      "outputs": []
    },
    {
      "cell_type": "code",
      "metadata": {
        "id": "MmGQmAplS3Bv"
      },
      "source": [
        "test.isnull().sum()"
      ],
      "execution_count": null,
      "outputs": []
    },
    {
      "cell_type": "markdown",
      "metadata": {
        "id": "rOr8MBa2eoZz"
      },
      "source": [
        "#2.전처리"
      ]
    },
    {
      "cell_type": "markdown",
      "metadata": {
        "id": "FIMnNGnrT8p2"
      },
      "source": [
        "## 필요없는 컬럼 삭제"
      ]
    },
    {
      "cell_type": "code",
      "metadata": {
        "id": "rR8TbcJ9iufv"
      },
      "source": [
        "train = train.drop(['Ticket', 'Cabin'], axis=1)\n",
        "test = test.drop(['Ticket', 'Cabin'], axis=1)"
      ],
      "execution_count": null,
      "outputs": []
    },
    {
      "cell_type": "code",
      "metadata": {
        "id": "99D31VXMQaV8"
      },
      "source": [
        "combine = [train, test]"
      ],
      "execution_count": null,
      "outputs": []
    },
    {
      "cell_type": "code",
      "metadata": {
        "id": "P5hInlphQlu_"
      },
      "source": [
        "combine"
      ],
      "execution_count": null,
      "outputs": []
    },
    {
      "cell_type": "code",
      "metadata": {
        "id": "CYCF0S-0Qu0h"
      },
      "source": [
        "for dataset in combine:\n",
        "    dataset['Title'] = dataset.Name.str.extract(' ([A-Za-z]+)\\.', expand=False)\n",
        "\n",
        "pd.crosstab(train['Title'], train['Sex'])"
      ],
      "execution_count": null,
      "outputs": []
    },
    {
      "cell_type": "code",
      "metadata": {
        "id": "WYRfFPFQRbYc"
      },
      "source": [
        "for dataset in combine:\n",
        "    dataset['Title'] = dataset['Title'].replace(['Lady', 'Countess','Capt', 'Col',\\\n",
        " \t'Don', 'Dr', 'Major', 'Rev', 'Sir', 'Jonkheer', 'Dona'], 'Rare')\n",
        "\n",
        "    dataset['Title'] = dataset['Title'].replace('Mlle', 'Miss')\n",
        "    dataset['Title'] = dataset['Title'].replace('Ms', 'Miss')\n",
        "    dataset['Title'] = dataset['Title'].replace('Mme', 'Mrs')\n",
        "    \n",
        "train[['Title', 'Survived']].groupby(['Title'], as_index=False).mean()"
      ],
      "execution_count": null,
      "outputs": []
    },
    {
      "cell_type": "code",
      "metadata": {
        "id": "-hk2ZgzeRjYg"
      },
      "source": [
        "title_mapping = {\"Mr\": 1, \"Miss\": 2, \"Mrs\": 3, \"Master\": 4, \"Rare\": 5}\n",
        "for dataset in combine:\n",
        "    dataset['Title'] = dataset['Title'].map(title_mapping)\n",
        "    dataset['Title'] = dataset['Title'].fillna(0)\n",
        "\n"
      ],
      "execution_count": null,
      "outputs": []
    },
    {
      "cell_type": "code",
      "metadata": {
        "id": "IlpMZP9IU2RG"
      },
      "source": [
        "# train.head()"
      ],
      "execution_count": null,
      "outputs": []
    },
    {
      "cell_type": "code",
      "metadata": {
        "id": "2QryM5kHYFAS"
      },
      "source": [
        "test = test.drop(['PassengerId'], axis=1)\n"
      ],
      "execution_count": null,
      "outputs": []
    },
    {
      "cell_type": "code",
      "metadata": {
        "id": "Z7w3tCphR566"
      },
      "source": [
        "train = train.drop(['Name', 'PassengerId'], axis=1)\n",
        "test = test.drop(['Name'], axis=1)\n",
        "combine = [train, test]\n",
        "train.shape, test.shape"
      ],
      "execution_count": null,
      "outputs": []
    },
    {
      "cell_type": "code",
      "metadata": {
        "id": "6cuJMnecUXnk"
      },
      "source": [
        "for dataset in combine:\n",
        "    dataset['Sex'] = dataset['Sex'].map( {'female': 1, 'male': 0} ).astype(int)\n",
        "\n",
        "train.head()"
      ],
      "execution_count": null,
      "outputs": []
    },
    {
      "cell_type": "code",
      "metadata": {
        "id": "yY5rH7beV43c"
      },
      "source": [
        "guess_ages = np.zeros((2,3))\n",
        "guess_ages"
      ],
      "execution_count": null,
      "outputs": []
    },
    {
      "cell_type": "code",
      "metadata": {
        "id": "_8CMms40U-9t"
      },
      "source": [
        "for dataset in combine:\n",
        "    for i in range(0, 2):\n",
        "        for j in range(0, 3):\n",
        "            guess_df = dataset[(dataset['Sex'] == i) & \\\n",
        "                                  (dataset['Pclass'] == j+1)]['Age'].dropna()\n",
        "\n",
        "            # age_mean = guess_df.mean()\n",
        "            # age_std = guess_df.std()\n",
        "            # age_guess = rnd.uniform(age_mean - age_std, age_mean + age_std)\n",
        "\n",
        "            age_guess = guess_df.median()\n",
        "\n",
        "            # Convert random age float to nearest .5 age\n",
        "            guess_ages[i,j] = int( age_guess/0.5 + 0.5 ) * 0.5\n",
        "            \n",
        "    for i in range(0, 2):\n",
        "        for j in range(0, 3):\n",
        "            dataset.loc[ (dataset.Age.isnull()) & (dataset.Sex == i) & (dataset.Pclass == j+1),\\\n",
        "                    'Age'] = guess_ages[i,j]\n",
        "\n",
        "    dataset['Age'] = dataset['Age'].astype(int)\n",
        "\n",
        "train.head()"
      ],
      "execution_count": null,
      "outputs": []
    },
    {
      "cell_type": "code",
      "metadata": {
        "id": "JP-8U5oZSBDo"
      },
      "source": [
        "train['AgeBand'] = pd.cut(train['Age'], 5)\n",
        "train[['AgeBand', 'Survived']].groupby(['AgeBand'], as_index=False).mean().sort_values(by='AgeBand', ascending=True)"
      ],
      "execution_count": null,
      "outputs": []
    },
    {
      "cell_type": "code",
      "metadata": {
        "id": "vOnQsNwLSOhW"
      },
      "source": [
        "for dataset in combine:    \n",
        "    dataset.loc[ dataset['Age'] <= 16, 'Age'] = 0\n",
        "    dataset.loc[(dataset['Age'] > 16) & (dataset['Age'] <= 32), 'Age'] = 1\n",
        "    dataset.loc[(dataset['Age'] > 32) & (dataset['Age'] <= 48), 'Age'] = 2\n",
        "    dataset.loc[(dataset['Age'] > 48) & (dataset['Age'] <= 64), 'Age'] = 3\n",
        "    dataset.loc[ dataset['Age'] > 64, 'Age']\n",
        "train.head()"
      ],
      "execution_count": null,
      "outputs": []
    },
    {
      "cell_type": "code",
      "metadata": {
        "id": "JnjtTSMPSTLP"
      },
      "source": [
        "train = train.drop(['AgeBand'], axis=1)\n",
        "combine = [train, test]\n",
        "train.head()"
      ],
      "execution_count": null,
      "outputs": []
    },
    {
      "cell_type": "code",
      "metadata": {
        "id": "4oUENF5eSbZL"
      },
      "source": [
        "for dataset in combine:\n",
        "    dataset['FamilySize'] = dataset['SibSp'] + dataset['Parch'] + 1\n",
        "\n",
        "train[['FamilySize', 'Survived']].groupby(['FamilySize'], as_index=False).mean().sort_values(by='Survived', ascending=False)"
      ],
      "execution_count": null,
      "outputs": []
    },
    {
      "cell_type": "code",
      "metadata": {
        "id": "SRjyDbwQSfA1"
      },
      "source": [
        "for dataset in combine:\n",
        "    dataset['IsAlone'] = 0\n",
        "    dataset.loc[dataset['FamilySize'] == 1, 'IsAlone'] = 1\n",
        "\n",
        "train[['IsAlone', 'Survived']].groupby(['IsAlone'], as_index=False).mean()"
      ],
      "execution_count": null,
      "outputs": []
    },
    {
      "cell_type": "code",
      "metadata": {
        "id": "9nym1rRGSj7R"
      },
      "source": [
        "train = train.drop(['Parch', 'SibSp', 'FamilySize'], axis=1)\n",
        "test = test.drop(['Parch', 'SibSp', 'FamilySize'], axis=1)\n",
        "combine = [train, test]\n",
        "\n",
        "train.head()"
      ],
      "execution_count": null,
      "outputs": []
    },
    {
      "cell_type": "code",
      "metadata": {
        "id": "_tuQ2yqjSqUt"
      },
      "source": [
        "for dataset in combine:\n",
        "    dataset['Age*Class'] = dataset.Age * dataset.Pclass\n",
        "\n",
        "train.loc[:, ['Age*Class', 'Age', 'Pclass']].head(10)"
      ],
      "execution_count": null,
      "outputs": []
    },
    {
      "cell_type": "code",
      "metadata": {
        "id": "jXPuyldhStWo"
      },
      "source": [
        "freq_port = train.Embarked.dropna().mode()[0]\n",
        "freq_port"
      ],
      "execution_count": null,
      "outputs": []
    },
    {
      "cell_type": "code",
      "metadata": {
        "id": "jnrNSDbHSxUc"
      },
      "source": [
        "for dataset in combine:\n",
        "    dataset['Embarked'] = dataset['Embarked'].fillna(freq_port)\n",
        "    \n",
        "train[['Embarked', 'Survived']].groupby(['Embarked'], as_index=False).mean().sort_values(by='Survived', ascending=False)"
      ],
      "execution_count": null,
      "outputs": []
    },
    {
      "cell_type": "code",
      "metadata": {
        "id": "FwEHK_P7S0VG"
      },
      "source": [
        "for dataset in combine:\n",
        "    dataset['Embarked'] = dataset['Embarked'].map( {'S': 0, 'C': 1, 'Q': 2} ).astype(int)\n",
        "\n",
        "train.head()"
      ],
      "execution_count": null,
      "outputs": []
    },
    {
      "cell_type": "code",
      "metadata": {
        "id": "ckfg1QMaS49-"
      },
      "source": [
        "test['Fare'].fillna(test['Fare'].dropna().median(), inplace=True)\n",
        "test.head()"
      ],
      "execution_count": null,
      "outputs": []
    },
    {
      "cell_type": "code",
      "metadata": {
        "id": "bqC2qXCoTcqU"
      },
      "source": [
        "train['FareBand'] = pd.qcut(train['Fare'], 4)\n",
        "train[['FareBand', 'Survived']].groupby(['FareBand'], as_index=False).mean().sort_values(by='FareBand', ascending=True)"
      ],
      "execution_count": null,
      "outputs": []
    },
    {
      "cell_type": "code",
      "metadata": {
        "id": "cBGp_smUS_Nf"
      },
      "source": [
        "for dataset in combine:\n",
        "    dataset.loc[ dataset['Fare'] <= 7.91, 'Fare'] = 0\n",
        "    dataset.loc[(dataset['Fare'] > 7.91) & (dataset['Fare'] <= 14.454), 'Fare'] = 1\n",
        "    dataset.loc[(dataset['Fare'] > 14.454) & (dataset['Fare'] <= 31), 'Fare']   = 2\n",
        "    dataset.loc[ dataset['Fare'] > 31, 'Fare'] = 3\n",
        "    dataset['Fare'] = dataset['Fare'].astype(int)\n",
        "\n",
        "train = train.drop(['FareBand'], axis=1)\n",
        "combine = [train, test]\n",
        "    \n",
        "train.head(10)"
      ],
      "execution_count": null,
      "outputs": []
    },
    {
      "cell_type": "code",
      "metadata": {
        "id": "TbzAWqLZXnFq"
      },
      "source": [
        "train.head(10)"
      ],
      "execution_count": null,
      "outputs": []
    },
    {
      "cell_type": "code",
      "metadata": {
        "id": "pocPqF-1T7qR"
      },
      "source": [
        "# train.drop(\"PassengerId\", axis = 1, inplace = True)\n",
        "# test.drop(\"PassengerId\", axis = 1, inplace = True)\n",
        "# # train.drop(\"Name\", axis = 1, inplace = True)\n",
        "# # test.drop(\"Name\", axis = 1, inplace = True)\n",
        "# train.drop(\"Ticket\", axis = 1, inplace = True)\n",
        "# test.drop(\"Ticket\", axis = 1, inplace = True)\n",
        "# # train.drop(\"Cabin\", axis = 1, inplace = True)\n",
        "# # test.drop(\"Cabin\", axis = 1, inplace = True)"
      ],
      "execution_count": null,
      "outputs": []
    },
    {
      "cell_type": "code",
      "metadata": {
        "id": "w4W2_WrEUXtg"
      },
      "source": [
        "train.info()"
      ],
      "execution_count": null,
      "outputs": []
    },
    {
      "cell_type": "markdown",
      "metadata": {
        "id": "3qhLuyhZUSvX"
      },
      "source": [
        "## 편향성 확인"
      ]
    },
    {
      "cell_type": "code",
      "metadata": {
        "id": "KBJbTup7TU8k"
      },
      "source": [
        "fig, ax = plt.subplots()\n",
        "ax.scatter(x = train['Age'], y = train['Survived'])\n",
        "plt.ylabel('Survived', fontsize=13)\n",
        "plt.xlabel('Age', fontsize=13)\n",
        "plt.show()"
      ],
      "execution_count": null,
      "outputs": []
    },
    {
      "cell_type": "code",
      "metadata": {
        "id": "T-CdLFtuUfQY"
      },
      "source": [
        "train[['Pclass']].boxplot()"
      ],
      "execution_count": null,
      "outputs": []
    },
    {
      "cell_type": "code",
      "metadata": {
        "id": "a5AXCQmdYMFN"
      },
      "source": [
        "train[['Age']].boxplot()"
      ],
      "execution_count": null,
      "outputs": []
    },
    {
      "cell_type": "code",
      "metadata": {
        "id": "CCOeR5WLYST0"
      },
      "source": [
        "#Correlation map to see how features are correlated with SalePrice\n",
        "import seaborn as sns\n",
        "\n",
        "corrmat = train.corr()\n",
        "plt.subplots(figsize=(12,9))\n",
        "sns.heatmap(data = corrmat, annot=True, \n",
        "fmt = '.2f', linewidths=.5, cmap='Blues')"
      ],
      "execution_count": null,
      "outputs": []
    },
    {
      "cell_type": "markdown",
      "metadata": {
        "id": "XmBgUCw1ckmT"
      },
      "source": [
        "## 결측치 처리"
      ]
    },
    {
      "cell_type": "code",
      "metadata": {
        "id": "d_CFg4arc0yY"
      },
      "source": [
        "train.isnull().sum()"
      ],
      "execution_count": null,
      "outputs": []
    },
    {
      "cell_type": "code",
      "metadata": {
        "id": "E4Do59yeiSNf"
      },
      "source": [
        "test.isnull().sum()"
      ],
      "execution_count": null,
      "outputs": []
    },
    {
      "cell_type": "code",
      "metadata": {
        "id": "HIRCqyRScj0y"
      },
      "source": [
        "# train[\"Embarked\"] = train[\"Embarked\"].fillna(\"None\")"
      ],
      "execution_count": null,
      "outputs": []
    },
    {
      "cell_type": "code",
      "metadata": {
        "id": "x3nUjNDps4R4"
      },
      "source": [
        "# del train['Ticket']\n",
        "# del test['Ticket']"
      ],
      "execution_count": null,
      "outputs": []
    },
    {
      "cell_type": "code",
      "metadata": {
        "id": "qe-PNXjUrzsA"
      },
      "source": [
        "train.head()"
      ],
      "execution_count": null,
      "outputs": []
    },
    {
      "cell_type": "code",
      "metadata": {
        "id": "lACV70lJibMU"
      },
      "source": [
        "# test[\"Fare\"] = test[\"Fare\"].fillna(\"None\")"
      ],
      "execution_count": null,
      "outputs": []
    },
    {
      "cell_type": "markdown",
      "metadata": {
        "id": "PooIhktlirgM"
      },
      "source": [
        "## 라벨인코더"
      ]
    },
    {
      "cell_type": "code",
      "metadata": {
        "id": "FHQGDTojairQ"
      },
      "source": [
        "# from sklearn.preprocessing import LabelEncoder\n",
        "# le = LabelEncoder()\n",
        "# train_result = le.fit_transform(train['Embarked'])\n",
        "# test_result = le.fit_transform(test['Embarked'])\n",
        "\n",
        "# # print(result)\n",
        "# train['Embarked'] = train_result\n",
        "# test['Embarked'] = test_result"
      ],
      "execution_count": null,
      "outputs": []
    },
    {
      "cell_type": "markdown",
      "metadata": {
        "id": "UJ9gRV2riwY4"
      },
      "source": [
        "## 다중대체법"
      ]
    },
    {
      "cell_type": "code",
      "metadata": {
        "id": "K5sJcC9tWtlo"
      },
      "source": [
        "train_no_Survived = train.drop(['Survived'], axis=1)\n"
      ],
      "execution_count": null,
      "outputs": []
    },
    {
      "cell_type": "code",
      "metadata": {
        "id": "bqoKNoLQe7zB"
      },
      "source": [
        "total = pd.concat([train_no_Survived,test],axis=0,ignore_index=True)\n"
      ],
      "execution_count": null,
      "outputs": []
    },
    {
      "cell_type": "code",
      "metadata": {
        "id": "ZqeaJV_Ke_o3"
      },
      "source": [
        "import missingno as msno\n",
        "msno.matrix(total)\n"
      ],
      "execution_count": null,
      "outputs": []
    },
    {
      "cell_type": "code",
      "metadata": {
        "id": "z0GlUUsifCZK"
      },
      "source": [
        "dummy = pd.get_dummies(total)"
      ],
      "execution_count": null,
      "outputs": []
    },
    {
      "cell_type": "code",
      "metadata": {
        "id": "2D8iKETKqRQu"
      },
      "source": [
        "dummy.shape"
      ],
      "execution_count": null,
      "outputs": []
    },
    {
      "cell_type": "code",
      "metadata": {
        "id": "xBbM_2wOi0oh"
      },
      "source": [
        "total_impute = pd.DataFrame(IterativeImputer(verbose=False).fit_transform(dummy))\n",
        "total_impute"
      ],
      "execution_count": null,
      "outputs": []
    },
    {
      "cell_type": "code",
      "metadata": {
        "id": "uEQz-Rd1i2Qd"
      },
      "source": [
        "msno.matrix(total_impute)\n"
      ],
      "execution_count": null,
      "outputs": []
    },
    {
      "cell_type": "code",
      "metadata": {
        "id": "ejAoN-b-kiUR"
      },
      "source": [
        "total_cols = list(dummy.columns)\n",
        "total_impute.columns = total_cols"
      ],
      "execution_count": null,
      "outputs": []
    },
    {
      "cell_type": "code",
      "metadata": {
        "id": "5KIEeFQjkpKh"
      },
      "source": [
        "X_train = total_impute[:891]\n",
        "X_test = total_impute[891:]"
      ],
      "execution_count": null,
      "outputs": []
    },
    {
      "cell_type": "code",
      "metadata": {
        "id": "LCxA1AUDksey"
      },
      "source": [
        "y_train = train['Survived']"
      ],
      "execution_count": null,
      "outputs": []
    },
    {
      "cell_type": "code",
      "metadata": {
        "id": "3LUpg7CoZcGS"
      },
      "source": [
        "y_train.shape"
      ],
      "execution_count": null,
      "outputs": []
    },
    {
      "cell_type": "code",
      "metadata": {
        "id": "wdVZwiBnuxSc"
      },
      "source": [
        "from patsy import dmatrices\n",
        "from statsmodels.stats.outliers_influence import variance_inflation_factor\n"
      ],
      "execution_count": null,
      "outputs": []
    },
    {
      "cell_type": "code",
      "metadata": {
        "id": "dou5NHfPvCHv"
      },
      "source": [
        "pd.options.display.float_format = '{:.5f}'.format\n"
      ],
      "execution_count": null,
      "outputs": []
    },
    {
      "cell_type": "markdown",
      "metadata": {
        "id": "xiigYzqSc8xD"
      },
      "source": [
        "#3.다중공선성"
      ]
    },
    {
      "cell_type": "code",
      "metadata": {
        "id": "UKUtFXfrvDy0"
      },
      "source": [
        "Numeric_feature = [ col for col in train.columns if train[col].dtypes != \"object\"]\n",
        "Numeric_feature"
      ],
      "execution_count": null,
      "outputs": []
    },
    {
      "cell_type": "code",
      "metadata": {
        "id": "gA6IW0ysvFit"
      },
      "source": [
        "y, X = dmatrices('Survived ~ Pclass+Age+SibSp+Parch+Fare', train, return_type = 'dataframe')\n",
        "\n",
        "vif = pd.DataFrame()\n",
        "vif[\"VIF Factor\"] = [variance_inflation_factor(X.values, i) for i in range(X.shape[1])]\n",
        "vif[\"features\"] = X.columns \n",
        "vif"
      ],
      "execution_count": null,
      "outputs": []
    },
    {
      "cell_type": "markdown",
      "metadata": {
        "id": "EVlvLGY4dMy_"
      },
      "source": [
        "#4.상관관계 분석"
      ]
    },
    {
      "cell_type": "code",
      "metadata": {
        "id": "Ar7r2o0gvHPd"
      },
      "source": [
        "import statsmodels.api as sm;\n",
        "import scipy.stats as stats\n",
        "from scipy import stats\n",
        "import seaborn as sns\n",
        "import matplotlib.pyplot as plt"
      ],
      "execution_count": null,
      "outputs": []
    },
    {
      "cell_type": "code",
      "metadata": {
        "id": "CopaJjNZP-vI"
      },
      "source": [
        "train_use_Survived = train\n",
        "dummy_two = pd.get_dummies(train_use_Survived)\n",
        "total_impute2 = pd.DataFrame(IterativeImputer(verbose=False).fit_transform(dummy_two))\n",
        "total_impute2"
      ],
      "execution_count": null,
      "outputs": []
    },
    {
      "cell_type": "code",
      "metadata": {
        "id": "0i3snNBzQfgF"
      },
      "source": [
        "total_cols2 = list(dummy_two.columns)\n",
        "total_impute2.columns = total_cols2\n",
        "total_impute2.head(20)"
      ],
      "execution_count": null,
      "outputs": []
    },
    {
      "cell_type": "code",
      "metadata": {
        "id": "OARDDqlALdrf"
      },
      "source": [
        "corrmat = total_impute2.corr()\n",
        "# plt.subplots(figsize=(12,9))\n",
        "# sns.heatmap(data = corrmat, annot=True, \n",
        "# fmt = '.2f', linewidths=.5, cmap='Blues')"
      ],
      "execution_count": null,
      "outputs": []
    },
    {
      "cell_type": "code",
      "metadata": {
        "id": "8lxkZnogxgiu"
      },
      "source": [
        "abs(corrmat['Survived']).sort_values()"
      ],
      "execution_count": null,
      "outputs": []
    },
    {
      "cell_type": "code",
      "metadata": {
        "id": "SDd1jzpTOa3C"
      },
      "source": [
        "pd.set_option('display.max_rows', 500)"
      ],
      "execution_count": null,
      "outputs": []
    },
    {
      "cell_type": "code",
      "metadata": {
        "id": "S7INJfjVY6Kf"
      },
      "source": [
        "X_train"
      ],
      "execution_count": null,
      "outputs": []
    },
    {
      "cell_type": "code",
      "metadata": {
        "id": "hqVX-b52PViO"
      },
      "source": [
        "# X_train = total_impute2[corrmat[abs(corrmat['Survived']).sort_values()].index]\n",
        "# X_train = total_impute2[corrmat[abs(corrmat['Survived']).sort_values() > 0.02].index]\n",
        "\n",
        "# X_train = X_train.drop(['Survived'], axis=1)\n",
        "y_train = train['Survived']"
      ],
      "execution_count": null,
      "outputs": []
    },
    {
      "cell_type": "code",
      "metadata": {
        "id": "NqnaKWxGK7ka"
      },
      "source": [
        "# corr_with_d = lambda x: x.corrwith(train['Survived'])\n",
        "# grouped = train.groupby('Survived')\n",
        "# grouped.apply(corr_with_d) "
      ],
      "execution_count": null,
      "outputs": []
    },
    {
      "cell_type": "code",
      "metadata": {
        "id": "jFgmf9UjvVul"
      },
      "source": [
        "category_feature = [ col for col in train.columns if train[col].dtypes == \"object\"]\n",
        "train_cor = train[category_feature]\n",
        "train_cor"
      ],
      "execution_count": null,
      "outputs": []
    },
    {
      "cell_type": "markdown",
      "metadata": {
        "id": "1S-DeEmgdPw0"
      },
      "source": [
        "#5.머신러닝"
      ]
    },
    {
      "cell_type": "code",
      "metadata": {
        "id": "A-b-LS9dvWxM"
      },
      "source": [
        "from sklearn.ensemble import RandomForestRegressor\n",
        "from sklearn.metrics import accuracy_score,explained_variance_score, mean_squared_error, mean_absolute_error, r2_score\n",
        "from sklearn import metrics\n",
        "from sklearn.naive_bayes import GaussianNB\n",
        "from sklearn.svm import SVC \n",
        "from sklearn.ensemble import RandomForestClassifier\n",
        "from sklearn.tree import DecisionTreeClassifier\n",
        "from sklearn.neural_network import MLPClassifier\n",
        "from sklearn.neighbors import KNeighborsClassifier\n",
        "from sklearn.discriminant_analysis import LinearDiscriminantAnalysis\n",
        "from sklearn.linear_model import LogisticRegression\n"
      ],
      "execution_count": null,
      "outputs": []
    },
    {
      "cell_type": "code",
      "metadata": {
        "id": "RjFLVFvQyXrT"
      },
      "source": [
        "def rmse(predictions, targets):\n",
        "    return np.sqrt(((predictions - targets) ** 2).mean())"
      ],
      "execution_count": null,
      "outputs": []
    },
    {
      "cell_type": "code",
      "metadata": {
        "id": "XHMxcaf9xhWB"
      },
      "source": [
        "X_train, X_test, y_train, y_test = train_test_split(X_train, y_train, test_size=0.3, random_state=777)"
      ],
      "execution_count": null,
      "outputs": []
    },
    {
      "cell_type": "markdown",
      "metadata": {
        "id": "QN9wZnE0dStz"
      },
      "source": [
        "##1)GaussianNB"
      ]
    },
    {
      "cell_type": "code",
      "metadata": {
        "id": "Z4VhpD2qwNHM"
      },
      "source": [
        "def GaussianNB_fuction(X_train,y_train):\n",
        "    model = GaussianNB()\n",
        "    model.fit(X=X_train, y=y_train)\n",
        "    y_pred = model.predict(X_test) # 예측치\n",
        "    # y_true = y_test # 정답\n",
        "    # print('Root Mean Squared Error:',rmse(y_pred,y_test))\n",
        "    print('GaussianNB rmse:',rmse(y_pred,y_test))\n",
        "    print('정확도 : {0:.4f}'.format(accuracy_score(y_test, y_pred)))"
      ],
      "execution_count": null,
      "outputs": []
    },
    {
      "cell_type": "markdown",
      "metadata": {
        "id": "xTPDmQ-YdVNe"
      },
      "source": [
        "##2)SVC"
      ]
    },
    {
      "cell_type": "code",
      "metadata": {
        "id": "gLtNF0y6wn0x"
      },
      "source": [
        "def SVC_fuction(X_train,y_train):\n",
        "    model = SVC()  # kernel = 'rbf'  : default\n",
        "    model.fit(X=X_train, y=y_train)\n",
        "    y_pred = model.predict(X_test) # 예측치\n",
        "    # y_true = y_test # 정답\n",
        "    # print('Root Mean Squared Error:',rmse(y_pred,y_test))\n",
        "    print('SVC rmse:',rmse(y_pred,y_test))\n",
        "    print('정확도 : {0:.4f}'.format(accuracy_score(y_test, y_pred)))"
      ],
      "execution_count": null,
      "outputs": []
    },
    {
      "cell_type": "markdown",
      "metadata": {
        "id": "rcOeRMJ6dW10"
      },
      "source": [
        "##3)RandomForestClassifier"
      ]
    },
    {
      "cell_type": "code",
      "metadata": {
        "id": "lmpx1eP1y8Mm"
      },
      "source": [
        "def RandomForestClassifier_fuction(X_train,y_train):\n",
        "    model = RandomForestClassifier().fit(X=X_train, y=y_train)\n",
        "    model.predict(X_test)\n",
        "    y_pred = model.predict(X_test) # 예측치\n",
        "    # print('Root Mean Squared Error:',rmse(y_pred,y_test))\n",
        "    print('RandomForestClassifier rmse:',rmse(y_pred,y_test))\n",
        "    print('정확도 : {0:.4f}'.format(accuracy_score(y_test, y_pred))) "
      ],
      "execution_count": null,
      "outputs": []
    },
    {
      "cell_type": "markdown",
      "metadata": {
        "id": "9tbIxSRadYs-"
      },
      "source": [
        "##4)MLPClassifier"
      ]
    },
    {
      "cell_type": "code",
      "metadata": {
        "id": "SxqA6yVyzcfh"
      },
      "source": [
        "def MLPClassifier_fuction(X_train,y_train):\n",
        "    model = MLPClassifier().fit(X=X_train, y=y_train)\n",
        "    model.predict(X_test)\n",
        "    y_pred = model.predict(X_test) # 예측치\n",
        "    # print('Root Mean Squared Error:',rmse(y_pred,y_test))\n",
        "    print('MLPClassifier rmse:',rmse(y_pred,y_test))\n",
        "    print('정확도 : {0:.4f}'.format(accuracy_score(y_test, y_pred)))"
      ],
      "execution_count": null,
      "outputs": []
    },
    {
      "cell_type": "markdown",
      "metadata": {
        "id": "AyRy2mQddaWi"
      },
      "source": [
        "##5)DecisionTreeClassifier"
      ]
    },
    {
      "cell_type": "code",
      "metadata": {
        "id": "gDCZqLMtz1ct"
      },
      "source": [
        "def DecisionTreeClassifier_fuction(X_train,y_train):\n",
        "    model = DecisionTreeClassifier().fit(X_train, y_train)\n",
        "    model.predict(X_test)\n",
        "    y_pred = model.predict(X_test) # 예측치\n",
        "    # print('Root Mean Squared Error:',rmse(y_pred,y_test))\n",
        "    print('DecisionTreeClassifier rmse:',rmse(y_pred,y_test))\n",
        "    print('정확도 : {0:.4f}'.format(accuracy_score(y_test, y_pred)))"
      ],
      "execution_count": null,
      "outputs": []
    },
    {
      "cell_type": "markdown",
      "metadata": {
        "id": "YHGX6zQpdb0T"
      },
      "source": [
        "##6)KNeighborsClassifier"
      ]
    },
    {
      "cell_type": "code",
      "metadata": {
        "id": "DotXGitv0ER0"
      },
      "source": [
        "def KNeighborsClassifier_fuction(X_train,y_train):\n",
        "    model = KNeighborsClassifier()\n",
        "    model.fit(X_train, y_train)\n",
        "    model.predict(X_test)\n",
        "    y_pred = model.predict(X_test) # 예측치\n",
        "    # print('Root Mean Squared Error:',rmse(y_pred,y_test))\n",
        "    print('KNeighborsClassifier rmse:',rmse(y_pred,y_test))\n",
        "    print('정확도 : {0:.4f}'.format(accuracy_score(y_test, y_pred)))"
      ],
      "execution_count": null,
      "outputs": []
    },
    {
      "cell_type": "markdown",
      "metadata": {
        "id": "tbkA9msUddQ5"
      },
      "source": [
        "##7)LinearDiscriminantAnalysis"
      ]
    },
    {
      "cell_type": "code",
      "metadata": {
        "id": "juXMNvov0KMp"
      },
      "source": [
        "def LinearDiscriminantAnalysis_fuction(X_train,y_train):\n",
        "    model = LinearDiscriminantAnalysis()\n",
        "    model.fit(X_train, y_train)\n",
        "    model.predict(X_test)\n",
        "    y_pred = model.predict(X_test) # 예측치\n",
        "    # print('Root Mean Squared Error:',rmse(y_pred,y_test))\n",
        "    print('LinearDiscriminantAnalysis rmse:',rmse(y_pred,y_test))\n",
        "    print('정확도 : {0:.4f}'.format(accuracy_score(y_test, y_pred)))"
      ],
      "execution_count": null,
      "outputs": []
    },
    {
      "cell_type": "markdown",
      "metadata": {
        "id": "2Y4dpFZR-JW8"
      },
      "source": [
        "##8)LogisticRegression"
      ]
    },
    {
      "cell_type": "code",
      "metadata": {
        "id": "uwYQuXjs-FUe"
      },
      "source": [
        "def LogisticRegression_fuction(X_train,y_train):\n",
        "    model = LogisticRegression()\n",
        "    model.fit(X_train, y_train)\n",
        "    y_pred = model.predict(X_test)\n",
        "    print('LogisticRegression rmse:',rmse(y_pred,y_test))\n",
        "    print('정확도 : {0:.4f}'.format(accuracy_score(y_test, y_pred)))\n"
      ],
      "execution_count": null,
      "outputs": []
    },
    {
      "cell_type": "markdown",
      "metadata": {
        "id": "_FhD_ciNh668"
      },
      "source": [
        "##9)실행문"
      ]
    },
    {
      "cell_type": "code",
      "metadata": {
        "id": "sn5fkKrW0O7t"
      },
      "source": [
        "GaussianNB_fuction(X_train,y_train)\n",
        "SVC_fuction(X_train,y_train)\n",
        "RandomForestClassifier_fuction(X_train,y_train)\n",
        "MLPClassifier_fuction(X_train,y_train)\n",
        "DecisionTreeClassifier_fuction(X_train,y_train)\n",
        "KNeighborsClassifier_fuction(X_train,y_train)\n",
        "LinearDiscriminantAnalysis_fuction(X_train,y_train)\n",
        "LogisticRegression_fuction(X_train,y_train)"
      ],
      "execution_count": null,
      "outputs": []
    },
    {
      "cell_type": "markdown",
      "metadata": {
        "id": "dmkwaaT8jmdB"
      },
      "source": [
        "#6.앙상블기법"
      ]
    },
    {
      "cell_type": "markdown",
      "metadata": {
        "id": "kM-J5XxHNt3B"
      },
      "source": [
        "##1.voting"
      ]
    },
    {
      "cell_type": "code",
      "metadata": {
        "id": "ugSTU4W_hsBr"
      },
      "source": [
        "from sklearn.ensemble import VotingClassifier, VotingRegressor\n",
        "from sklearn.model_selection import KFold\n",
        "from sklearn.model_selection import cross_validate\n",
        "\n",
        "# ensemble 할 model 정의\n",
        "models = [\n",
        "    # ('enc', ElasticNetCV()),\n",
        "    # ('gnb',GaussianNB()),\n",
        "    # ('svc',SVC()),\n",
        "    ('rf',RandomForestClassifier()),\n",
        "    ('mlpc',MLPClassifier()),\n",
        "    ('dtc',DecisionTreeClassifier()),\n",
        "    ('kc',KNeighborsClassifier()),\n",
        "    # ('lda',LinearDiscriminantAnalysis()),\n",
        "    ('lr',LogisticRegression())\n",
        "\n",
        "]\n",
        "voting_classifier = VotingClassifier(models, n_jobs=-1) #n_jobs 코어수\n",
        "voting_classifier.fit(X_train, y_train)\n",
        "voting_pred = voting_classifier.predict(X_test)\n",
        "print('Root Mean Squared Error:',rmse(voting_pred,y_test))\n",
        "print('정확도 : {0:.4f}'.format(accuracy_score(y_test, voting_pred)))\n"
      ],
      "execution_count": null,
      "outputs": []
    },
    {
      "cell_type": "markdown",
      "metadata": {
        "id": "rZ-el9a9Nw30"
      },
      "source": [
        "##2.stacking"
      ]
    },
    {
      "cell_type": "code",
      "metadata": {
        "id": "NMQybSLZkPyY"
      },
      "source": [
        "from sklearn.ensemble import StackingClassifier\n",
        "models = [\n",
        "    # ('enc', ElasticNetCV()),\n",
        "    # ('gnb',GaussianNB()),\n",
        "    # ('svc',SVC()),\n",
        "    ('rf',RandomForestClassifier()),\n",
        "    ('mlpc',MLPClassifier()),\n",
        "    ('dtc',DecisionTreeClassifier()),\n",
        "    ('kc',KNeighborsClassifier()),\n",
        "    ('lda',LinearDiscriminantAnalysis()),\n",
        "    # ('lr',LogisticRegression())\n",
        "\n",
        "]\n",
        "rf = RandomForestClassifier()\n",
        "mlpc = MLPClassifier()\n",
        "dtc = DecisionTreeClassifier()\n",
        "kc = KNeighborsClassifier()\n",
        "lda = LinearDiscriminantAnalysis()\n",
        "lr = LogisticRegression()\n",
        "stack_clf = StackingClassifier(models, final_estimator=mlpc, n_jobs=-1)\n",
        "stack_clf.fit(X_train, y_train)\n",
        "stack_pred = stack_clf.predict(X_test)\n",
        "print('Root Mean Squared Error:',rmse(stack_pred,y_test))\n",
        "print('정확도 : {0:.4f}'.format(accuracy_score(y_test, stack_pred)))\n"
      ],
      "execution_count": null,
      "outputs": []
    },
    {
      "cell_type": "markdown",
      "metadata": {
        "id": "DeOvn0ZvN8dG"
      },
      "source": [
        "##3.bagging"
      ]
    },
    {
      "cell_type": "code",
      "metadata": {
        "id": "qaeTJMhAmECW"
      },
      "source": [
        "from sklearn.ensemble import BaggingClassifier\n",
        "from sklearn.datasets import make_regression\n",
        "regr = BaggingClassifier(base_estimator=LinearDiscriminantAnalysis(),\n",
        "                        n_estimators=10, random_state=0).fit(X_train, y_train)\n",
        "bagging_pred = regr.predict(X_test)\n",
        "print('Root Mean Squared Error:',rmse(bagging_pred,y_test))\n",
        "print('정확도 : {0:.4f}'.format(accuracy_score(y_test, bagging_pred)))"
      ],
      "execution_count": null,
      "outputs": []
    },
    {
      "cell_type": "code",
      "metadata": {
        "id": "szJ5PMHNceu9"
      },
      "source": [
        "# # Random Forest\n",
        "\n",
        "# random_forest = RandomForestClassifier(n_estimators=100)\n",
        "# random_forest.fit(X_train, y_train)\n",
        "# Y_pred = random_forest.predict(X_test)\n",
        "# random_forest.score(X_train, y_train)\n",
        "# acc_random_forest = round(random_forest.score(X_train, y_train) * 100, 2)\n",
        "# acc_random_forest"
      ],
      "execution_count": null,
      "outputs": []
    },
    {
      "cell_type": "markdown",
      "metadata": {
        "id": "8YVGqUp5-xGn"
      },
      "source": [
        "#7.Cross Validation"
      ]
    },
    {
      "cell_type": "code",
      "metadata": {
        "id": "e0qrC33Gma6d"
      },
      "source": [
        "def cross_validation_function(X_train,y_train):\n",
        "    kfold = KFold(n_splits=5)\n",
        "    mlpc = MLPClassifier()\n",
        "    GaussianNB_score=cross_validate(GaussianNB(),X_train,y_train,scoring='accuracy' , cv=kfold)\n",
        "    SVC_score=cross_validate(SVC(),X_train,y_train,scoring='accuracy' , cv=kfold)\n",
        "    RandomForestClassifier_score=cross_validate(RandomForestClassifier(),X_train,y_train,scoring='accuracy' , cv=kfold)\n",
        "    # MLPClassifier=cross_validate(mlpc,X_train,y_train,scoring='accuracy' , cv=kfold)\n",
        "    DecisionTreeClassifier_score=cross_validate(DecisionTreeClassifier(),X_train,y_train,scoring='accuracy' , cv=kfold)\n",
        "    KNeighborsClassifier_score=cross_validate(KNeighborsClassifier(),X_train,y_train,scoring='accuracy' , cv=kfold)\n",
        "    LinearDiscriminantAnalysis_score=cross_validate(LinearDiscriminantAnalysis(),X_train,y_train,scoring='accuracy' , cv=kfold)\n",
        "    LogisticRegression_score=cross_validate(LogisticRegression(),X_train,y_train,scoring='accuracy' , cv=kfold)\n",
        "    stack_clf_score=cross_validate(StackingClassifier(models, final_estimator=mlpc, n_jobs=-1),X_train,y_train,scoring='accuracy' , cv=kfold)\n",
        "    voting_classifier_score=cross_validate(VotingClassifier(models, n_jobs=-1),X_train,y_train,scoring='accuracy' , cv=kfold)\n",
        "    print('voting_classifier_score :',voting_classifier_score['test_score'].mean())    \n",
        "    print('stack_clf_score :',stack_clf_score['test_score'].mean())\n",
        "    print('GaussianNB_score :',GaussianNB_score['test_score'].mean())\n",
        "    print('SVC_score: ',SVC_score['test_score'].mean())\n",
        "    print('RandomForestClassifier_score :',RandomForestClassifier_score['test_score'].mean())\n",
        "    # print('MLPClassifier:',MLPClassifier['test_score'].mean())\n",
        "    print('DecisionTreeClassifier_score:',DecisionTreeClassifier_score['test_score'].mean())\n",
        "    print('KNeighborsClassifier_score:',KNeighborsClassifier_score['test_score'].mean())\n",
        "    print('LinearDiscriminantAnalysis_score:',LinearDiscriminantAnalysis_score['test_score'].mean())\n",
        "    print('LogisticRegression_score:',LogisticRegression_score['test_score'].mean())\n"
      ],
      "execution_count": null,
      "outputs": []
    },
    {
      "cell_type": "code",
      "metadata": {
        "id": "AxHTiEcW_PIM"
      },
      "source": [
        "cross_validation_function(X_train,y_train)"
      ],
      "execution_count": null,
      "outputs": []
    },
    {
      "cell_type": "code",
      "metadata": {
        "id": "XiIPo2WgE_iH"
      },
      "source": [
        "voting_classifier_score : 0.8363096774193549\n",
        "stack_clf_score : 0.8459741935483871\n",
        "GaussianNB_score : 0.6838322580645161\n",
        "SVC_score:  0.6950193548387096\n",
        "RandomForestClassifier_score : 0.8235225806451613\n",
        "DecisionTreeClassifier_score: 0.7929548387096774\n",
        "KNeighborsClassifier_score: 0.7319483870967742\n",
        "LinearDiscriminantAnalysis_score: 0.8171225806451613\n",
        "LogisticRegression_score: 0.8106580645161291"
      ],
      "execution_count": null,
      "outputs": []
    },
    {
      "cell_type": "code",
      "metadata": {
        "id": "SagWMzcmZzkZ"
      },
      "source": [
        "\n",
        "# 수정본\n",
        "voting_classifier_score : 0.8138709677419355\n",
        "stack_clf_score : 0.8074064516129033\n",
        "GaussianNB_score : 0.7303870967741936\n",
        "SVC_score:  0.7848774193548387\n",
        "RandomForestClassifier_score : 0.8090193548387097\n",
        "DecisionTreeClassifier_score: 0.8122451612903226\n",
        "KNeighborsClassifier_score: 0.7881677419354839\n",
        "LinearDiscriminantAnalysis_score: 0.7896903225806451\n",
        "LogisticRegression_score: 0.8009548387096774"
      ],
      "execution_count": null,
      "outputs": []
    }
  ]
}